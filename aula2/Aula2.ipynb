{
 "cells": [
  {
   "cell_type": "markdown",
   "metadata": {
    "colab_type": "text",
    "id": "91SEnJ5CcBzL"
   },
   "source": [
    "# Introdução\n",
    "\n",
    "Olá seja bem-vinda e bem-vindo ao notebook da **aula 02**, desça até o conteúdo da aula 02 e bons estudos (Se clicar na seta antes do título Aula 01 ela comprime todo o conteúndo da aula 1, deixando o layout mais agradavél).\n",
    "\n",
    "**Não esqueça de rodar todos as células de códigos da aula 01, antes de iniciar a aula 02**"
   ]
  },
  {
   "cell_type": "code",
   "execution_count": 1,
   "metadata": {
    "colab": {},
    "colab_type": "code",
    "id": "fm9UvpjdRZjP"
   },
   "outputs": [],
   "source": [
    "import pandas as pd"
   ]
  },
  {
   "cell_type": "code",
   "execution_count": 2,
   "metadata": {
    "colab": {
     "base_uri": "https://localhost:8080/"
    },
    "colab_type": "code",
    "id": "uIoEtYpDUSbk",
    "outputId": "f9a7dc9d-e185-418a-ca67-780eb22ce6ae",
    "scrolled": true
   },
   "outputs": [],
   "source": [
    "filmes = pd.read_csv(\"https://raw.githubusercontent.com/alura-cursos/introducao-a-data-science/master/aula0/ml-latest-small/movies.csv\")\n",
    "# filmes é um DataFrame\n",
    "filmes.columns = [\"filmeId\", \"titulo\", \"generos\"]"
   ]
  },
  {
   "cell_type": "code",
   "execution_count": 3,
   "metadata": {
    "colab": {
     "base_uri": "https://localhost:8080/"
    },
    "colab_type": "code",
    "id": "7A1UmccVVLeK",
    "outputId": "731b8b8f-d8fd-4f44-ffee-e4cd47623ece"
   },
   "outputs": [],
   "source": [
    "avaliacoes = pd.read_csv(\"https://github.com/alura-cursos/introducao-a-data-science/blob/master/aula0/ml-latest-small/ratings.csv?raw=true\")\n"
   ]
  },
  {
   "cell_type": "code",
   "execution_count": 4,
   "metadata": {
    "colab": {
     "base_uri": "https://localhost:8080/"
    },
    "colab_type": "code",
    "id": "QRXxNO5-VyJD",
    "outputId": "c16ef6ba-2753-47e2-8896-6bf02480d70a"
   },
   "outputs": [
    {
     "data": {
      "text/plain": [
       "(100836, 4)"
      ]
     },
     "execution_count": 4,
     "metadata": {},
     "output_type": "execute_result"
    }
   ],
   "source": [
    "avaliacoes.shape"
   ]
  },
  {
   "cell_type": "code",
   "execution_count": 5,
   "metadata": {
    "colab": {
     "base_uri": "https://localhost:8080/"
    },
    "colab_type": "code",
    "id": "Wo5ZCjYdV6To",
    "outputId": "a2d5e718-f448-4bae-96ae-f1cc5428c2d9"
   },
   "outputs": [
    {
     "data": {
      "text/plain": [
       "100836"
      ]
     },
     "execution_count": 5,
     "metadata": {},
     "output_type": "execute_result"
    }
   ],
   "source": [
    "len(avaliacoes)"
   ]
  },
  {
   "cell_type": "code",
   "execution_count": 6,
   "metadata": {
    "colab": {
     "base_uri": "https://localhost:8080/"
    },
    "colab_type": "code",
    "id": "QblDDv4SWBvC",
    "outputId": "d1807337-f8cc-4d9e-cced-471a2f739c61"
   },
   "outputs": [],
   "source": [
    "avaliacoes.columns = [\"usuarioId\", \"filmeId\", \"nota\", \"momento\"]\n"
   ]
  },
  {
   "cell_type": "code",
   "execution_count": 7,
   "metadata": {
    "colab": {
     "base_uri": "https://localhost:8080/"
    },
    "colab_type": "code",
    "id": "t26TcAKMWLx8",
    "outputId": "1cf00774-aac6-4b7f-aa50-7b5aa2073097"
   },
   "outputs": [],
   "source": [
    "avaliacoes_do_filme_1 = avaliacoes.query(\"filmeId==1\")"
   ]
  },
  {
   "cell_type": "code",
   "execution_count": 8,
   "metadata": {
    "colab": {
     "base_uri": "https://localhost:8080/"
    },
    "colab_type": "code",
    "id": "lf4dH46SW2ro",
    "outputId": "5601f20e-14ba-4da8-e339-3631fb7587c4",
    "scrolled": true
   },
   "outputs": [
    {
     "data": {
      "text/plain": [
       "usuarioId    3.065302e+02\n",
       "filmeId      1.000000e+00\n",
       "nota         3.920930e+00\n",
       "momento      1.129835e+09\n",
       "dtype: float64"
      ]
     },
     "execution_count": 8,
     "metadata": {},
     "output_type": "execute_result"
    }
   ],
   "source": [
    "avaliacoes_do_filme_1.mean()"
   ]
  },
  {
   "cell_type": "code",
   "execution_count": 9,
   "metadata": {
    "colab": {
     "base_uri": "https://localhost:8080/"
    },
    "colab_type": "code",
    "id": "OnltfnYqWi40",
    "outputId": "f0d15da3-d163-4041-9ad9-d774ba6aa525"
   },
   "outputs": [
    {
     "data": {
      "text/plain": [
       "0         4.0\n",
       "1         4.0\n",
       "2         4.0\n",
       "3         5.0\n",
       "4         5.0\n",
       "         ... \n",
       "100831    4.0\n",
       "100832    5.0\n",
       "100833    5.0\n",
       "100834    5.0\n",
       "100835    3.0\n",
       "Name: nota, Length: 100836, dtype: float64"
      ]
     },
     "execution_count": 9,
     "metadata": {},
     "output_type": "execute_result"
    }
   ],
   "source": [
    "avaliacoes[\"nota\"]"
   ]
  },
  {
   "cell_type": "code",
   "execution_count": 10,
   "metadata": {
    "colab": {
     "base_uri": "https://localhost:8080/"
    },
    "colab_type": "code",
    "id": "Xos6cYlmPWO6",
    "outputId": "41b37660-a316-4e49-daa9-27c5bc68d08c"
   },
   "outputs": [
    {
     "data": {
      "text/plain": [
       "3.501556983616962"
      ]
     },
     "execution_count": 10,
     "metadata": {},
     "output_type": "execute_result"
    }
   ],
   "source": [
    "avaliacoes[\"nota\"].mean()"
   ]
  },
  {
   "cell_type": "code",
   "execution_count": 11,
   "metadata": {
    "colab": {
     "base_uri": "https://localhost:8080/"
    },
    "colab_type": "code",
    "id": "h8JDwB_2W8yR",
    "outputId": "56060734-e853-46cc-c604-e2a970733c4a"
   },
   "outputs": [
    {
     "data": {
      "text/plain": [
       "3.9209302325581397"
      ]
     },
     "execution_count": 11,
     "metadata": {},
     "output_type": "execute_result"
    }
   ],
   "source": [
    "avaliacoes_do_filme_1[\"nota\"].mean()"
   ]
  },
  {
   "cell_type": "code",
   "execution_count": 12,
   "metadata": {
    "colab": {
     "base_uri": "https://localhost:8080/"
    },
    "colab_type": "code",
    "id": "78qsVDbWW-kf",
    "outputId": "a2a9ddcb-b995-417b-c5ca-6d7710b41158"
   },
   "outputs": [],
   "source": [
    "notas_medias_por_filme = avaliacoes.groupby(\"filmeId\")[\"nota\"].mean()"
   ]
  },
  {
   "cell_type": "code",
   "execution_count": 13,
   "metadata": {},
   "outputs": [
    {
     "data": {
      "text/plain": [
       "filmeId\n",
       "1         3.920930\n",
       "2         3.431818\n",
       "3         3.259615\n",
       "4         2.357143\n",
       "5         3.071429\n",
       "            ...   \n",
       "193581    4.000000\n",
       "193583    3.500000\n",
       "193585    3.500000\n",
       "193587    3.500000\n",
       "193609    4.000000\n",
       "Name: nota, Length: 9724, dtype: float64"
      ]
     },
     "execution_count": 13,
     "metadata": {},
     "output_type": "execute_result"
    }
   ],
   "source": [
    "notas_medias_por_filme"
   ]
  },
  {
   "cell_type": "code",
   "execution_count": 14,
   "metadata": {
    "colab": {
     "base_uri": "https://localhost:8080/"
    },
    "colab_type": "code",
    "id": "hoUllrZFZgsA",
    "outputId": "c18b82fc-05cf-4eb7-9ece-b794c50131a9"
   },
   "outputs": [],
   "source": [
    "filmes_com_media = filmes.join(notas_medias_por_filme, on=\"filmeId\")\n"
   ]
  },
  {
   "cell_type": "code",
   "execution_count": 15,
   "metadata": {},
   "outputs": [
    {
     "data": {
      "text/html": [
       "<div>\n",
       "<style scoped>\n",
       "    .dataframe tbody tr th:only-of-type {\n",
       "        vertical-align: middle;\n",
       "    }\n",
       "\n",
       "    .dataframe tbody tr th {\n",
       "        vertical-align: top;\n",
       "    }\n",
       "\n",
       "    .dataframe thead th {\n",
       "        text-align: right;\n",
       "    }\n",
       "</style>\n",
       "<table border=\"1\" class=\"dataframe\">\n",
       "  <thead>\n",
       "    <tr style=\"text-align: right;\">\n",
       "      <th></th>\n",
       "      <th>filmeId</th>\n",
       "      <th>titulo</th>\n",
       "      <th>generos</th>\n",
       "      <th>nota</th>\n",
       "    </tr>\n",
       "  </thead>\n",
       "  <tbody>\n",
       "    <tr>\n",
       "      <td>0</td>\n",
       "      <td>1</td>\n",
       "      <td>Toy Story (1995)</td>\n",
       "      <td>Adventure|Animation|Children|Comedy|Fantasy</td>\n",
       "      <td>3.920930</td>\n",
       "    </tr>\n",
       "    <tr>\n",
       "      <td>1</td>\n",
       "      <td>2</td>\n",
       "      <td>Jumanji (1995)</td>\n",
       "      <td>Adventure|Children|Fantasy</td>\n",
       "      <td>3.431818</td>\n",
       "    </tr>\n",
       "    <tr>\n",
       "      <td>2</td>\n",
       "      <td>3</td>\n",
       "      <td>Grumpier Old Men (1995)</td>\n",
       "      <td>Comedy|Romance</td>\n",
       "      <td>3.259615</td>\n",
       "    </tr>\n",
       "    <tr>\n",
       "      <td>3</td>\n",
       "      <td>4</td>\n",
       "      <td>Waiting to Exhale (1995)</td>\n",
       "      <td>Comedy|Drama|Romance</td>\n",
       "      <td>2.357143</td>\n",
       "    </tr>\n",
       "    <tr>\n",
       "      <td>4</td>\n",
       "      <td>5</td>\n",
       "      <td>Father of the Bride Part II (1995)</td>\n",
       "      <td>Comedy</td>\n",
       "      <td>3.071429</td>\n",
       "    </tr>\n",
       "  </tbody>\n",
       "</table>\n",
       "</div>"
      ],
      "text/plain": [
       "   filmeId                              titulo  \\\n",
       "0        1                    Toy Story (1995)   \n",
       "1        2                      Jumanji (1995)   \n",
       "2        3             Grumpier Old Men (1995)   \n",
       "3        4            Waiting to Exhale (1995)   \n",
       "4        5  Father of the Bride Part II (1995)   \n",
       "\n",
       "                                       generos      nota  \n",
       "0  Adventure|Animation|Children|Comedy|Fantasy  3.920930  \n",
       "1                   Adventure|Children|Fantasy  3.431818  \n",
       "2                               Comedy|Romance  3.259615  \n",
       "3                         Comedy|Drama|Romance  2.357143  \n",
       "4                                       Comedy  3.071429  "
      ]
     },
     "execution_count": 15,
     "metadata": {},
     "output_type": "execute_result"
    }
   ],
   "source": [
    "filmes_com_media.head()"
   ]
  },
  {
   "cell_type": "code",
   "execution_count": 16,
   "metadata": {
    "colab": {
     "base_uri": "https://localhost:8080/"
    },
    "colab_type": "code",
    "id": "W2s2pBHck1Zt",
    "outputId": "849088f1-9be2-4ef8-849c-7466d2b9048f"
   },
   "outputs": [
    {
     "data": {
      "text/plain": [
       "<matplotlib.axes._subplots.AxesSubplot at 0x7ffb85df2bd0>"
      ]
     },
     "execution_count": 16,
     "metadata": {},
     "output_type": "execute_result"
    }
   ],
   "source": [
    "avaliacoes.query(\"filmeId == 1\")[\"nota\"].plot(kind='hist')"
   ]
  },
  {
   "cell_type": "code",
   "execution_count": 17,
   "metadata": {
    "colab": {
     "base_uri": "https://localhost:8080/"
    },
    "colab_type": "code",
    "id": "C8KHmAMbmPJA",
    "outputId": "ed350909-8e52-4136-81f7-966669fda6b6"
   },
   "outputs": [
    {
     "data": {
      "text/plain": [
       "<matplotlib.axes._subplots.AxesSubplot at 0x7ffb55b0dcd0>"
      ]
     },
     "execution_count": 17,
     "metadata": {},
     "output_type": "execute_result"
    },
    {
     "data": {
      "image/png": "[encoded data removed]",
      "text/plain": [
       "<Figure size 432x288 with 1 Axes>"
      ]
     },
     "metadata": {
      "needs_background": "light"
     },
     "output_type": "display_data"
    }
   ],
   "source": [
    "avaliacoes.query(\"filmeId == 1\")[\"nota\"].plot(kind='hist',\n",
    "                                              title=\"Avaliações do filme Toy Story\")"
   ]
  },
  {
   "cell_type": "code",
   "execution_count": 18,
   "metadata": {
    "colab": {
     "base_uri": "https://localhost:8080/"
    },
    "colab_type": "code",
    "id": "kSJBUpCmamqK",
    "outputId": "cf09b1b6-153a-47ba-8d18-2612b3c8277c"
   },
   "outputs": [
    {
     "data": {
      "image/png": "[encoded data removed]",
      "text/plain": [
       "<Figure size 432x288 with 1 Axes>"
      ]
     },
     "metadata": {
      "needs_background": "light"
     },
     "output_type": "display_data"
    }
   ],
   "source": [
    "import matplotlib.pyplot as plt\n",
    "\n",
    "avaliacoes.query(\"filmeId == 1\")[\"nota\"].plot(kind='hist')\n",
    "plt.title(\"Avaliações do filme Toy Story\")\n",
    "plt.show()"
   ]
  },
  {
   "cell_type": "code",
   "execution_count": 19,
   "metadata": {
    "colab": {
     "base_uri": "https://localhost:8080/"
    },
    "colab_type": "code",
    "id": "vEJ5uiDpdKzC",
    "outputId": "ababb021-5180-421b-efd5-b9fcacf19caa"
   },
   "outputs": [
    {
     "data": {
      "text/plain": [
       "<matplotlib.axes._subplots.AxesSubplot at 0x7ffb559b8250>"
      ]
     },
     "execution_count": 19,
     "metadata": {},
     "output_type": "execute_result"
    },
    {
     "data": {
      "image/png": "[encoded data removed]",
      "text/plain": [
       "<Figure size 432x288 with 1 Axes>"
      ]
     },
     "metadata": {
      "needs_background": "light"
     },
     "output_type": "display_data"
    }
   ],
   "source": [
    "avaliacoes.query(\"filmeId == 2\")[\"nota\"].plot(kind='hist',\n",
    "                                              title=\"Avaliações do filme Toy Jumanji\")"
   ]
  },
  {
   "cell_type": "code",
   "execution_count": 20,
   "metadata": {
    "colab": {
     "base_uri": "https://localhost:8080/"
    },
    "colab_type": "code",
    "id": "3qI60nGXdt3W",
    "outputId": "36c50872-a71c-4ba2-8b25-cef8f6621725"
   },
   "outputs": [
    {
     "data": {
      "text/plain": [
       "<matplotlib.axes._subplots.AxesSubplot at 0x7ffb5593a850>"
      ]
     },
     "execution_count": 20,
     "metadata": {},
     "output_type": "execute_result"
    },
    {
     "data": {
      "image/png": "[encoded data removed]",
      "text/plain": [
       "<Figure size 432x288 with 1 Axes>"
      ]
     },
     "metadata": {
      "needs_background": "light"
     },
     "output_type": "display_data"
    }
   ],
   "source": [
    "avaliacoes.query(\"filmeId == 102084\")[\"nota\"].plot(kind='hist',\n",
    "                                                   title=\"Avaliações do filme Justice League: Doom\")"
   ]
  },
  {
   "cell_type": "code",
   "execution_count": 21,
   "metadata": {
    "colab": {
     "base_uri": "https://localhost:8080/",
     "height": 482
    },
    "colab_type": "code",
    "id": "wS6m52kJgTzj",
    "outputId": "39bdf836-7171-48f6-dd0f-c564f6fde0bf"
   },
   "outputs": [
    {
     "data": {
      "image/png": "[encoded data removed]",
      "text/plain": [
       "<Figure size 576x576 with 1 Axes>"
      ]
     },
     "metadata": {},
     "output_type": "display_data"
    }
   ],
   "source": [
    "filmes[\"generos\"].str.get_dummies('|').sum().sort_values(ascending=False).plot(\n",
    "    kind='pie', \n",
    "    title='Categorias de filmes e suas presenças relativas',\n",
    "    figsize=(8,8))\n",
    "plt.show()"
   ]
  },
  {
   "cell_type": "code",
   "execution_count": 22,
   "metadata": {
    "colab": {
     "base_uri": "https://localhost:8080/",
     "height": 577
    },
    "colab_type": "code",
    "id": "AnwRxXYFq1Uk",
    "outputId": "a46eea5b-9741-4b29-da52-c0fb9610c175"
   },
   "outputs": [
    {
     "data": {
      "image/png": "[encoded data removed]",
      "text/plain": [
       "<Figure size 576x576 with 1 Axes>"
      ]
     },
     "metadata": {
      "needs_background": "light"
     },
     "output_type": "display_data"
    }
   ],
   "source": [
    "filmes[\"generos\"].str.get_dummies('|').sum().sort_values(ascending=False).plot(\n",
    "    kind='bar', \n",
    "    title='Filmes por categoria',\n",
    "    figsize=(8,8))\n",
    "plt.show()"
   ]
  },
  {
   "cell_type": "code",
   "execution_count": 23,
   "metadata": {
    "colab": {
     "base_uri": "https://localhost:8080/",
     "height": 538
    },
    "colab_type": "code",
    "id": "sN8whM-7q2Ax",
    "outputId": "0ad59a9e-6a3c-4d9e-8379-4f36df6a47dd"
   },
   "outputs": [
    {
     "data": {
      "image/png": "[encoded data removed]",
      "text/plain": [
       "<Figure size 1152x576 with 1 Axes>"
      ]
     },
     "metadata": {},
     "output_type": "display_data"
    }
   ],
   "source": [
    "import seaborn as sns\n",
    "sns.set_style(\"whitegrid\")\n",
    "\n",
    "filmes_por_genero = filmes[\"generos\"].str.get_dummies('|').sum().sort_values(ascending=False)\n",
    "plt.figure(figsize=(16,8))\n",
    "sns.barplot(x=filmes_por_genero.index,\n",
    "            y=filmes_por_genero.values,\n",
    "            palette=sns.color_palette(\"BuGn_r\", n_colors=len(filmes_por_genero) + 4))\n",
    "plt.show()"
   ]
  },
  {
   "cell_type": "markdown",
   "metadata": {
    "colab_type": "text",
    "id": "ydALPTERq2M2"
   },
   "source": [
    "Já, já explicamos o que foi feito em toda imagem, por agora repare como a imagem passa muito mais informação. Conseguimos comparar de forma fácil entre os gêneros e através do **mapa de calor** (gêneros com maior número tem um verde muito mais forte, gêneros com menor número é praticamente transparente) evidênciamos quais são as labels com maior participação, médias e insignificantes. Toda essa informação em uma única imagem!\n",
    "\n",
    "Bom, agora vamos entender como foi o código.\n",
    "\n",
    "Primeiro, não plotamos mais a imagem com o `.plot()` do pandas, vamos precisar de uma biblioteca de visualização mais poderosa para configurar nossa imagem, utilizamos o [seaborn](https://seaborn.pydata.org/).\n",
    "\n",
    "Segundo, chamamos o barplot do **seaborn**, adicionando uma **paleta de cores** com efeito de mapa de calor (parâmetro pallette), no parâmetro `n_color` de `sns.color_palette()` adicionamos **+4** para que a última barra não seja totalmente transparente.\n",
    "\n",
    "Terceiro, também adicionamos o **sns.set_style(\"whitegrid\")** para que todos os gráficos tenham a **linha de grade do eixo X** evidênte, facilitando a comparação entre as barras."
   ]
  },
  {
   "cell_type": "code",
   "execution_count": 24,
   "metadata": {
    "colab": {
     "base_uri": "https://localhost:8080/",
     "height": 483
    },
    "colab_type": "code",
    "id": "fCBxUBwkq2dS",
    "outputId": "acb736a0-32bc-4b0f-b175-f68b578aa472"
   },
   "outputs": [
    {
     "data": {
      "image/png": "[encoded data removed]",
      "text/plain": [
       "<Figure size 576x576 with 1 Axes>"
      ]
     },
     "metadata": {},
     "output_type": "display_data"
    }
   ],
   "source": [
    "import seaborn as sns\n",
    "\n",
    "filmes_por_genero = filmes[\"generos\"].str.get_dummies('|').sum().sort_values(ascending=False)\n",
    "plt.figure(figsize=(8,8))\n",
    "sns.barplot(x=filmes_por_genero.index,\n",
    "            y=filmes_por_genero.values,\n",
    "            palette=sns.color_palette(\"BuGn_r\", n_colors=len(filmes_por_genero) + 4))\n",
    "plt.show()"
   ]
  },
  {
   "cell_type": "markdown",
   "metadata": {
    "colab_type": "text",
    "id": "loU0EYIn0HW7"
   },
   "source": [
    "Por fim, mudamos o tamanho da imagem com o **figsize** do método`plt.figure()`. Assim, temos um gráfico com muitas informações e agradável de analisar.\n"
   ]
  },
  {
   "cell_type": "code",
   "execution_count": 25,
   "metadata": {
    "colab": {
     "base_uri": "https://localhost:8080/",
     "height": 483
    },
    "colab_type": "code",
    "id": "sHLQQRD50F14",
    "outputId": "671ec88a-2276-4aed-9305-a5bd753a7687"
   },
   "outputs": [
    {
     "data": {
      "image/png": "[encoded data removed]",
      "text/plain": [
       "<Figure size 1152x576 with 1 Axes>"
      ]
     },
     "metadata": {},
     "output_type": "display_data"
    }
   ],
   "source": [
    "import seaborn as sns\n",
    "sns.set_style(\"whitegrid\")\n",
    "\n",
    "filmes_por_genero = filmes[\"generos\"].str.get_dummies('|').sum().sort_values(ascending=False)\n",
    "plt.figure(figsize=(16,8))\n",
    "sns.barplot(x=filmes_por_genero.index,\n",
    "            y=filmes_por_genero.values,\n",
    "            palette=sns.color_palette(\"BuGn_r\", n_colors=len(filmes_por_genero) + 4))\n",
    "plt.show()"
   ]
  },
  {
   "cell_type": "markdown",
   "metadata": {
    "colab_type": "text",
    "id": "hWbZmSux0_gx"
   },
   "source": [
    "Conseguimos analisar e tirar diversas conclusões trabalhando com a visualização dos gêneros. Será que conseguimos utilizar visualizações para entender melhor as notas de um filme?\n",
    "\n",
    "Vamos relembrar alguns pontos que já discutimos e nos aprofundar nas análises de notas para tirar conclusões mais sofisticadas.\n",
    "\n",
    "Na **aula 01** calculamos as notas médias por filmes, vamos dar uma olhada no resultado."
   ]
  },
  {
   "cell_type": "code",
   "execution_count": 26,
   "metadata": {
    "colab": {
     "base_uri": "https://localhost:8080/",
     "height": 206
    },
    "colab_type": "code",
    "id": "WCpfME9dDUnC",
    "outputId": "54e419d3-a458-48d5-cbd8-bf58b45a2ee6"
   },
   "outputs": [
    {
     "data": {
      "text/html": [
       "<div>\n",
       "<style scoped>\n",
       "    .dataframe tbody tr th:only-of-type {\n",
       "        vertical-align: middle;\n",
       "    }\n",
       "\n",
       "    .dataframe tbody tr th {\n",
       "        vertical-align: top;\n",
       "    }\n",
       "\n",
       "    .dataframe thead th {\n",
       "        text-align: right;\n",
       "    }\n",
       "</style>\n",
       "<table border=\"1\" class=\"dataframe\">\n",
       "  <thead>\n",
       "    <tr style=\"text-align: right;\">\n",
       "      <th></th>\n",
       "      <th>filmeId</th>\n",
       "      <th>titulo</th>\n",
       "      <th>generos</th>\n",
       "      <th>nota</th>\n",
       "    </tr>\n",
       "  </thead>\n",
       "  <tbody>\n",
       "    <tr>\n",
       "      <td>0</td>\n",
       "      <td>1</td>\n",
       "      <td>Toy Story (1995)</td>\n",
       "      <td>Adventure|Animation|Children|Comedy|Fantasy</td>\n",
       "      <td>3.920930</td>\n",
       "    </tr>\n",
       "    <tr>\n",
       "      <td>1</td>\n",
       "      <td>2</td>\n",
       "      <td>Jumanji (1995)</td>\n",
       "      <td>Adventure|Children|Fantasy</td>\n",
       "      <td>3.431818</td>\n",
       "    </tr>\n",
       "    <tr>\n",
       "      <td>2</td>\n",
       "      <td>3</td>\n",
       "      <td>Grumpier Old Men (1995)</td>\n",
       "      <td>Comedy|Romance</td>\n",
       "      <td>3.259615</td>\n",
       "    </tr>\n",
       "    <tr>\n",
       "      <td>3</td>\n",
       "      <td>4</td>\n",
       "      <td>Waiting to Exhale (1995)</td>\n",
       "      <td>Comedy|Drama|Romance</td>\n",
       "      <td>2.357143</td>\n",
       "    </tr>\n",
       "    <tr>\n",
       "      <td>4</td>\n",
       "      <td>5</td>\n",
       "      <td>Father of the Bride Part II (1995)</td>\n",
       "      <td>Comedy</td>\n",
       "      <td>3.071429</td>\n",
       "    </tr>\n",
       "  </tbody>\n",
       "</table>\n",
       "</div>"
      ],
      "text/plain": [
       "   filmeId                              titulo  \\\n",
       "0        1                    Toy Story (1995)   \n",
       "1        2                      Jumanji (1995)   \n",
       "2        3             Grumpier Old Men (1995)   \n",
       "3        4            Waiting to Exhale (1995)   \n",
       "4        5  Father of the Bride Part II (1995)   \n",
       "\n",
       "                                       generos      nota  \n",
       "0  Adventure|Animation|Children|Comedy|Fantasy  3.920930  \n",
       "1                   Adventure|Children|Fantasy  3.431818  \n",
       "2                               Comedy|Romance  3.259615  \n",
       "3                         Comedy|Drama|Romance  2.357143  \n",
       "4                                       Comedy  3.071429  "
      ]
     },
     "execution_count": 26,
     "metadata": {},
     "output_type": "execute_result"
    }
   ],
   "source": [
    "filmes_com_media.head()"
   ]
  },
  {
   "cell_type": "markdown",
   "metadata": {
    "colab_type": "text",
    "id": "9nb5mvorDe6d"
   },
   "source": [
    "Como vimos, olhar apenas as médias pode ser um problema e para interpretar um pouco melhor os dados usamos o histograma das ntoas para comparar alguns filmes. Por exemplo, **Toy Story e Jumanji**"
   ]
  },
  {
   "cell_type": "code",
   "execution_count": 27,
   "metadata": {
    "colab": {
     "base_uri": "https://localhost:8080/",
     "height": 300
    },
    "colab_type": "code",
    "id": "ChEwRS45EEfM",
    "outputId": "38dc5d75-547e-43df-fe19-d796f57203f2"
   },
   "outputs": [
    {
     "name": "stdout",
     "output_type": "stream",
     "text": [
      "3.9209302325581397\n"
     ]
    },
    {
     "data": {
      "text/plain": [
       "<matplotlib.axes._subplots.AxesSubplot at 0x7ffb4f00b090>"
      ]
     },
     "execution_count": 27,
     "metadata": {},
     "output_type": "execute_result"
    },
    {
     "data": {
      "image/png": "[encoded data removed]",
      "text/plain": [
       "<Figure size 432x288 with 1 Axes>"
      ]
     },
     "metadata": {},
     "output_type": "display_data"
    }
   ],
   "source": [
    "notas_do_filme_1 = avaliacoes.query(\"filmeId==1\")[\"nota\"]\n",
    "print(notas_do_filme_1.mean())\n",
    "notas_do_filme_1.plot(kind='hist')"
   ]
  },
  {
   "cell_type": "code",
   "execution_count": 28,
   "metadata": {
    "colab": {
     "base_uri": "https://localhost:8080/",
     "height": 300
    },
    "colab_type": "code",
    "id": "9cRMdMUYEXmd",
    "outputId": "0f753e48-cd3c-4a3b-c9c6-881760e7f853"
   },
   "outputs": [
    {
     "name": "stdout",
     "output_type": "stream",
     "text": [
      "3.4318181818181817\n"
     ]
    },
    {
     "data": {
      "text/plain": [
       "<matplotlib.axes._subplots.AxesSubplot at 0x7ffb4f644450>"
      ]
     },
     "execution_count": 28,
     "metadata": {},
     "output_type": "execute_result"
    },
    {
     "data": {
      "image/png": "[encoded data removed]",
      "text/plain": [
       "<Figure size 432x288 with 1 Axes>"
      ]
     },
     "metadata": {},
     "output_type": "display_data"
    }
   ],
   "source": [
    "notas_do_filme_1 = avaliacoes.query(\"filmeId==2\")[\"nota\"]\n",
    "print(notas_do_filme_1.mean())\n",
    "notas_do_filme_1.plot(kind='hist')"
   ]
  },
  {
   "cell_type": "markdown",
   "metadata": {
    "colab_type": "text",
    "id": "wH4BW07r0GZF"
   },
   "source": [
    "ToyStory e Jumanji tem médias relativamente próximas mas com comportamento de notas diferentes, então, para nosso exemplo, as médias ajudam mas esconde informações importântes sobre os dados. \n",
    "\n",
    "Lembra o exemplo que o Guilherme Silveira deu em aula comparando os sálarios de uma cidade? Olhando apenas para as médias dos salários não conseguimos evidênciar a desigualdade que havia entre as cidades. \n",
    "\n",
    "```python\n",
    "#Cidada A\n",
    "populacao = 1000\n",
    "salario = 1100\n",
    "\n",
    "media = 1100\n",
    "\n",
    "#Cidade B\n",
    "populacao = 1000\n",
    "salario1 = 1000000\n",
    "salario999 = 100\n",
    "\n",
    "media = (salario1 * 1 + salario999 * 999) / 1000\n",
    "media = 1099.00\n",
    "```\n",
    "\n",
    "P.S: Se tiver dúvidas reveja essa parte da aula e tente enteder o problema da média.\n",
    "\n",
    "\n",
    "Outras métrica que pode nos ajudar a interpretar melhor os dados são os quatis, principalmente a [mediana](https://pt.wikipedia.org/wiki/Mediana_(estat%C3%ADstica))\n",
    "\n",
    "Vamos buscar dois filmes com médias muito mais próximas que Toy Story e Jumanji, para analisar outras métricas além das médias."
   ]
  },
  {
   "cell_type": "code",
   "execution_count": 29,
   "metadata": {
    "colab": {
     "base_uri": "https://localhost:8080/",
     "height": 1000
    },
    "colab_type": "code",
    "id": "fFPWMZTcH5Em",
    "outputId": "8f7a0421-2e0b-4a10-8b60-d0e0dd8f75e1"
   },
   "outputs": [
    {
     "data": {
      "text/html": [
       "<div>\n",
       "<style scoped>\n",
       "    .dataframe tbody tr th:only-of-type {\n",
       "        vertical-align: middle;\n",
       "    }\n",
       "\n",
       "    .dataframe tbody tr th {\n",
       "        vertical-align: top;\n",
       "    }\n",
       "\n",
       "    .dataframe thead th {\n",
       "        text-align: right;\n",
       "    }\n",
       "</style>\n",
       "<table border=\"1\" class=\"dataframe\">\n",
       "  <thead>\n",
       "    <tr style=\"text-align: right;\">\n",
       "      <th></th>\n",
       "      <th>filmeId</th>\n",
       "      <th>titulo</th>\n",
       "      <th>generos</th>\n",
       "      <th>nota</th>\n",
       "    </tr>\n",
       "  </thead>\n",
       "  <tbody>\n",
       "    <tr>\n",
       "      <td>745</td>\n",
       "      <td>973</td>\n",
       "      <td>Meet John Doe (1941)</td>\n",
       "      <td>Comedy|Drama</td>\n",
       "      <td>3.900000</td>\n",
       "    </tr>\n",
       "    <tr>\n",
       "      <td>6632</td>\n",
       "      <td>56251</td>\n",
       "      <td>Futurama: Bender's Big Score (2007)</td>\n",
       "      <td>Animation|Comedy|Sci-Fi</td>\n",
       "      <td>3.900000</td>\n",
       "    </tr>\n",
       "    <tr>\n",
       "      <td>101</td>\n",
       "      <td>116</td>\n",
       "      <td>Anne Frank Remembered (1995)</td>\n",
       "      <td>Documentary</td>\n",
       "      <td>3.900000</td>\n",
       "    </tr>\n",
       "    <tr>\n",
       "      <td>5719</td>\n",
       "      <td>27846</td>\n",
       "      <td>Corporation, The (2003)</td>\n",
       "      <td>Documentary</td>\n",
       "      <td>3.900000</td>\n",
       "    </tr>\n",
       "    <tr>\n",
       "      <td>802</td>\n",
       "      <td>1050</td>\n",
       "      <td>Looking for Richard (1996)</td>\n",
       "      <td>Documentary|Drama</td>\n",
       "      <td>3.900000</td>\n",
       "    </tr>\n",
       "    <tr>\n",
       "      <td>3983</td>\n",
       "      <td>5617</td>\n",
       "      <td>Secretary (2002)</td>\n",
       "      <td>Comedy|Drama|Romance</td>\n",
       "      <td>3.900000</td>\n",
       "    </tr>\n",
       "    <tr>\n",
       "      <td>1323</td>\n",
       "      <td>1785</td>\n",
       "      <td>King of New York (1990)</td>\n",
       "      <td>Crime|Thriller</td>\n",
       "      <td>3.900000</td>\n",
       "    </tr>\n",
       "    <tr>\n",
       "      <td>7103</td>\n",
       "      <td>70599</td>\n",
       "      <td>Time Traveler's Wife, The (2009)</td>\n",
       "      <td>Drama|Romance|Sci-Fi</td>\n",
       "      <td>3.900000</td>\n",
       "    </tr>\n",
       "    <tr>\n",
       "      <td>5248</td>\n",
       "      <td>8607</td>\n",
       "      <td>Tokyo Godfathers (2003)</td>\n",
       "      <td>Adventure|Animation|Drama</td>\n",
       "      <td>3.900000</td>\n",
       "    </tr>\n",
       "    <tr>\n",
       "      <td>4677</td>\n",
       "      <td>6985</td>\n",
       "      <td>Passion of Joan of Arc, The (Passion de Jeanne...</td>\n",
       "      <td>Drama</td>\n",
       "      <td>3.900000</td>\n",
       "    </tr>\n",
       "    <tr>\n",
       "      <td>86</td>\n",
       "      <td>97</td>\n",
       "      <td>Hate (Haine, La) (1995)</td>\n",
       "      <td>Crime|Drama</td>\n",
       "      <td>3.900000</td>\n",
       "    </tr>\n",
       "    <tr>\n",
       "      <td>4100</td>\n",
       "      <td>5876</td>\n",
       "      <td>Quiet American, The (2002)</td>\n",
       "      <td>Drama|Thriller|War</td>\n",
       "      <td>3.900000</td>\n",
       "    </tr>\n",
       "    <tr>\n",
       "      <td>4298</td>\n",
       "      <td>6283</td>\n",
       "      <td>Cowboy Bebop: The Movie (Cowboy Bebop: Tengoku...</td>\n",
       "      <td>Action|Animation|Sci-Fi|Thriller</td>\n",
       "      <td>3.900000</td>\n",
       "    </tr>\n",
       "    <tr>\n",
       "      <td>8533</td>\n",
       "      <td>114935</td>\n",
       "      <td>Predestination (2014)</td>\n",
       "      <td>Action|Mystery|Sci-Fi|Thriller</td>\n",
       "      <td>3.900000</td>\n",
       "    </tr>\n",
       "    <tr>\n",
       "      <td>7946</td>\n",
       "      <td>95858</td>\n",
       "      <td>For the Birds (2000)</td>\n",
       "      <td>Animation|Children|Comedy</td>\n",
       "      <td>3.900000</td>\n",
       "    </tr>\n",
       "    <tr>\n",
       "      <td>1630</td>\n",
       "      <td>2176</td>\n",
       "      <td>Rope (1948)</td>\n",
       "      <td>Crime|Drama|Thriller</td>\n",
       "      <td>3.900000</td>\n",
       "    </tr>\n",
       "    <tr>\n",
       "      <td>3016</td>\n",
       "      <td>4034</td>\n",
       "      <td>Traffic (2000)</td>\n",
       "      <td>Crime|Drama|Thriller</td>\n",
       "      <td>3.900000</td>\n",
       "    </tr>\n",
       "    <tr>\n",
       "      <td>4702</td>\n",
       "      <td>7018</td>\n",
       "      <td>Presumed Innocent (1990)</td>\n",
       "      <td>Crime|Drama|Thriller</td>\n",
       "      <td>3.900000</td>\n",
       "    </tr>\n",
       "    <tr>\n",
       "      <td>2156</td>\n",
       "      <td>2871</td>\n",
       "      <td>Deliverance (1972)</td>\n",
       "      <td>Adventure|Drama|Thriller</td>\n",
       "      <td>3.900000</td>\n",
       "    </tr>\n",
       "    <tr>\n",
       "      <td>9710</td>\n",
       "      <td>187595</td>\n",
       "      <td>Solo: A Star Wars Story (2018)</td>\n",
       "      <td>Action|Adventure|Children|Sci-Fi</td>\n",
       "      <td>3.900000</td>\n",
       "    </tr>\n",
       "    <tr>\n",
       "      <td>1051</td>\n",
       "      <td>1366</td>\n",
       "      <td>Crucible, The (1996)</td>\n",
       "      <td>Drama</td>\n",
       "      <td>3.900000</td>\n",
       "    </tr>\n",
       "    <tr>\n",
       "      <td>6613</td>\n",
       "      <td>55820</td>\n",
       "      <td>No Country for Old Men (2007)</td>\n",
       "      <td>Crime|Drama</td>\n",
       "      <td>3.898438</td>\n",
       "    </tr>\n",
       "    <tr>\n",
       "      <td>939</td>\n",
       "      <td>1240</td>\n",
       "      <td>Terminator, The (1984)</td>\n",
       "      <td>Action|Sci-Fi|Thriller</td>\n",
       "      <td>3.896947</td>\n",
       "    </tr>\n",
       "    <tr>\n",
       "      <td>267</td>\n",
       "      <td>307</td>\n",
       "      <td>Three Colors: Blue (Trois couleurs: Bleu) (1993)</td>\n",
       "      <td>Drama</td>\n",
       "      <td>3.895833</td>\n",
       "    </tr>\n",
       "    <tr>\n",
       "      <td>599</td>\n",
       "      <td>745</td>\n",
       "      <td>Wallace &amp; Gromit: A Close Shave (1995)</td>\n",
       "      <td>Animation|Children|Comedy</td>\n",
       "      <td>3.895833</td>\n",
       "    </tr>\n",
       "    <tr>\n",
       "      <td>706</td>\n",
       "      <td>924</td>\n",
       "      <td>2001: A Space Odyssey (1968)</td>\n",
       "      <td>Adventure|Drama|Sci-Fi</td>\n",
       "      <td>3.894495</td>\n",
       "    </tr>\n",
       "    <tr>\n",
       "      <td>2078</td>\n",
       "      <td>2762</td>\n",
       "      <td>Sixth Sense, The (1999)</td>\n",
       "      <td>Drama|Horror|Mystery</td>\n",
       "      <td>3.893855</td>\n",
       "    </tr>\n",
       "    <tr>\n",
       "      <td>1608</td>\n",
       "      <td>2150</td>\n",
       "      <td>Gods Must Be Crazy, The (1980)</td>\n",
       "      <td>Adventure|Comedy</td>\n",
       "      <td>3.892857</td>\n",
       "    </tr>\n",
       "    <tr>\n",
       "      <td>5165</td>\n",
       "      <td>8366</td>\n",
       "      <td>Saved! (2004)</td>\n",
       "      <td>Comedy|Drama</td>\n",
       "      <td>3.892857</td>\n",
       "    </tr>\n",
       "    <tr>\n",
       "      <td>1432</td>\n",
       "      <td>1955</td>\n",
       "      <td>Kramer vs. Kramer (1979)</td>\n",
       "      <td>Drama</td>\n",
       "      <td>3.892857</td>\n",
       "    </tr>\n",
       "    <tr>\n",
       "      <td>2191</td>\n",
       "      <td>2912</td>\n",
       "      <td>Limey, The (1999)</td>\n",
       "      <td>Crime|Drama|Thriller</td>\n",
       "      <td>3.892857</td>\n",
       "    </tr>\n",
       "    <tr>\n",
       "      <td>5572</td>\n",
       "      <td>26776</td>\n",
       "      <td>Porco Rosso (Crimson Pig) (Kurenai no buta) (1...</td>\n",
       "      <td>Adventure|Animation|Comedy|Fantasy|Romance</td>\n",
       "      <td>3.892857</td>\n",
       "    </tr>\n",
       "    <tr>\n",
       "      <td>198</td>\n",
       "      <td>232</td>\n",
       "      <td>Eat Drink Man Woman (Yin shi nan nu) (1994)</td>\n",
       "      <td>Comedy|Drama|Romance</td>\n",
       "      <td>3.892857</td>\n",
       "    </tr>\n",
       "    <tr>\n",
       "      <td>9223</td>\n",
       "      <td>152081</td>\n",
       "      <td>Zootopia (2016)</td>\n",
       "      <td>Action|Adventure|Animation|Children|Comedy</td>\n",
       "      <td>3.890625</td>\n",
       "    </tr>\n",
       "    <tr>\n",
       "      <td>5885</td>\n",
       "      <td>33166</td>\n",
       "      <td>Crash (2004)</td>\n",
       "      <td>Crime|Drama</td>\n",
       "      <td>3.890000</td>\n",
       "    </tr>\n",
       "    <tr>\n",
       "      <td>3564</td>\n",
       "      <td>4880</td>\n",
       "      <td>Life as a House (2001)</td>\n",
       "      <td>Drama</td>\n",
       "      <td>3.888889</td>\n",
       "    </tr>\n",
       "    <tr>\n",
       "      <td>4258</td>\n",
       "      <td>6214</td>\n",
       "      <td>Irreversible (Irréversible) (2002)</td>\n",
       "      <td>Crime|Drama|Mystery|Thriller</td>\n",
       "      <td>3.888889</td>\n",
       "    </tr>\n",
       "    <tr>\n",
       "      <td>6884</td>\n",
       "      <td>63072</td>\n",
       "      <td>Road, The (2009)</td>\n",
       "      <td>Adventure|Drama|Thriller</td>\n",
       "      <td>3.888889</td>\n",
       "    </tr>\n",
       "    <tr>\n",
       "      <td>7078</td>\n",
       "      <td>69844</td>\n",
       "      <td>Harry Potter and the Half-Blood Prince (2009)</td>\n",
       "      <td>Adventure|Fantasy|Mystery|Romance|IMAX</td>\n",
       "      <td>3.887931</td>\n",
       "    </tr>\n",
       "    <tr>\n",
       "      <td>785</td>\n",
       "      <td>1028</td>\n",
       "      <td>Mary Poppins (1964)</td>\n",
       "      <td>Children|Comedy|Fantasy|Musical</td>\n",
       "      <td>3.887324</td>\n",
       "    </tr>\n",
       "    <tr>\n",
       "      <td>7413</td>\n",
       "      <td>80463</td>\n",
       "      <td>Social Network, The (2010)</td>\n",
       "      <td>Drama</td>\n",
       "      <td>3.885965</td>\n",
       "    </tr>\n",
       "    <tr>\n",
       "      <td>6151</td>\n",
       "      <td>44191</td>\n",
       "      <td>V for Vendetta (2006)</td>\n",
       "      <td>Action|Sci-Fi|Thriller|IMAX</td>\n",
       "      <td>3.885000</td>\n",
       "    </tr>\n",
       "    <tr>\n",
       "      <td>7688</td>\n",
       "      <td>89492</td>\n",
       "      <td>Moneyball (2011)</td>\n",
       "      <td>Drama</td>\n",
       "      <td>3.884615</td>\n",
       "    </tr>\n",
       "    <tr>\n",
       "      <td>6223</td>\n",
       "      <td>45728</td>\n",
       "      <td>Clerks II (2006)</td>\n",
       "      <td>Comedy</td>\n",
       "      <td>3.884615</td>\n",
       "    </tr>\n",
       "    <tr>\n",
       "      <td>912</td>\n",
       "      <td>1211</td>\n",
       "      <td>Wings of Desire (Himmel über Berlin, Der) (1987)</td>\n",
       "      <td>Drama|Fantasy|Romance</td>\n",
       "      <td>3.884615</td>\n",
       "    </tr>\n",
       "    <tr>\n",
       "      <td>6242</td>\n",
       "      <td>46578</td>\n",
       "      <td>Little Miss Sunshine (2006)</td>\n",
       "      <td>Adventure|Comedy|Drama</td>\n",
       "      <td>3.883117</td>\n",
       "    </tr>\n",
       "    <tr>\n",
       "      <td>1230</td>\n",
       "      <td>1635</td>\n",
       "      <td>Ice Storm, The (1997)</td>\n",
       "      <td>Drama</td>\n",
       "      <td>3.882353</td>\n",
       "    </tr>\n",
       "    <tr>\n",
       "      <td>225</td>\n",
       "      <td>261</td>\n",
       "      <td>Little Women (1994)</td>\n",
       "      <td>Drama</td>\n",
       "      <td>3.880952</td>\n",
       "    </tr>\n",
       "    <tr>\n",
       "      <td>701</td>\n",
       "      <td>919</td>\n",
       "      <td>Wizard of Oz, The (1939)</td>\n",
       "      <td>Adventure|Children|Fantasy|Musical</td>\n",
       "      <td>3.880435</td>\n",
       "    </tr>\n",
       "    <tr>\n",
       "      <td>968</td>\n",
       "      <td>1269</td>\n",
       "      <td>Arsenic and Old Lace (1944)</td>\n",
       "      <td>Comedy|Mystery|Thriller</td>\n",
       "      <td>3.879310</td>\n",
       "    </tr>\n",
       "  </tbody>\n",
       "</table>\n",
       "</div>"
      ],
      "text/plain": [
       "      filmeId                                             titulo  \\\n",
       "745       973                               Meet John Doe (1941)   \n",
       "6632    56251                Futurama: Bender's Big Score (2007)   \n",
       "101       116                       Anne Frank Remembered (1995)   \n",
       "5719    27846                            Corporation, The (2003)   \n",
       "802      1050                         Looking for Richard (1996)   \n",
       "3983     5617                                   Secretary (2002)   \n",
       "1323     1785                            King of New York (1990)   \n",
       "7103    70599                   Time Traveler's Wife, The (2009)   \n",
       "5248     8607                            Tokyo Godfathers (2003)   \n",
       "4677     6985  Passion of Joan of Arc, The (Passion de Jeanne...   \n",
       "86         97                            Hate (Haine, La) (1995)   \n",
       "4100     5876                         Quiet American, The (2002)   \n",
       "4298     6283  Cowboy Bebop: The Movie (Cowboy Bebop: Tengoku...   \n",
       "8533   114935                              Predestination (2014)   \n",
       "7946    95858                               For the Birds (2000)   \n",
       "1630     2176                                        Rope (1948)   \n",
       "3016     4034                                     Traffic (2000)   \n",
       "4702     7018                           Presumed Innocent (1990)   \n",
       "2156     2871                                 Deliverance (1972)   \n",
       "9710   187595                     Solo: A Star Wars Story (2018)   \n",
       "1051     1366                               Crucible, The (1996)   \n",
       "6613    55820                      No Country for Old Men (2007)   \n",
       "939      1240                             Terminator, The (1984)   \n",
       "267       307   Three Colors: Blue (Trois couleurs: Bleu) (1993)   \n",
       "599       745             Wallace & Gromit: A Close Shave (1995)   \n",
       "706       924                       2001: A Space Odyssey (1968)   \n",
       "2078     2762                            Sixth Sense, The (1999)   \n",
       "1608     2150                     Gods Must Be Crazy, The (1980)   \n",
       "5165     8366                                      Saved! (2004)   \n",
       "1432     1955                           Kramer vs. Kramer (1979)   \n",
       "2191     2912                                  Limey, The (1999)   \n",
       "5572    26776  Porco Rosso (Crimson Pig) (Kurenai no buta) (1...   \n",
       "198       232        Eat Drink Man Woman (Yin shi nan nu) (1994)   \n",
       "9223   152081                                    Zootopia (2016)   \n",
       "5885    33166                                       Crash (2004)   \n",
       "3564     4880                             Life as a House (2001)   \n",
       "4258     6214                 Irreversible (Irréversible) (2002)   \n",
       "6884    63072                                   Road, The (2009)   \n",
       "7078    69844      Harry Potter and the Half-Blood Prince (2009)   \n",
       "785      1028                                Mary Poppins (1964)   \n",
       "7413    80463                         Social Network, The (2010)   \n",
       "6151    44191                              V for Vendetta (2006)   \n",
       "7688    89492                                   Moneyball (2011)   \n",
       "6223    45728                                   Clerks II (2006)   \n",
       "912      1211   Wings of Desire (Himmel über Berlin, Der) (1987)   \n",
       "6242    46578                        Little Miss Sunshine (2006)   \n",
       "1230     1635                              Ice Storm, The (1997)   \n",
       "225       261                                Little Women (1994)   \n",
       "701       919                           Wizard of Oz, The (1939)   \n",
       "968      1269                        Arsenic and Old Lace (1944)   \n",
       "\n",
       "                                         generos      nota  \n",
       "745                                 Comedy|Drama  3.900000  \n",
       "6632                     Animation|Comedy|Sci-Fi  3.900000  \n",
       "101                                  Documentary  3.900000  \n",
       "5719                                 Documentary  3.900000  \n",
       "802                            Documentary|Drama  3.900000  \n",
       "3983                        Comedy|Drama|Romance  3.900000  \n",
       "1323                              Crime|Thriller  3.900000  \n",
       "7103                        Drama|Romance|Sci-Fi  3.900000  \n",
       "5248                   Adventure|Animation|Drama  3.900000  \n",
       "4677                                       Drama  3.900000  \n",
       "86                                   Crime|Drama  3.900000  \n",
       "4100                          Drama|Thriller|War  3.900000  \n",
       "4298            Action|Animation|Sci-Fi|Thriller  3.900000  \n",
       "8533              Action|Mystery|Sci-Fi|Thriller  3.900000  \n",
       "7946                   Animation|Children|Comedy  3.900000  \n",
       "1630                        Crime|Drama|Thriller  3.900000  \n",
       "3016                        Crime|Drama|Thriller  3.900000  \n",
       "4702                        Crime|Drama|Thriller  3.900000  \n",
       "2156                    Adventure|Drama|Thriller  3.900000  \n",
       "9710            Action|Adventure|Children|Sci-Fi  3.900000  \n",
       "1051                                       Drama  3.900000  \n",
       "6613                                 Crime|Drama  3.898438  \n",
       "939                       Action|Sci-Fi|Thriller  3.896947  \n",
       "267                                        Drama  3.895833  \n",
       "599                    Animation|Children|Comedy  3.895833  \n",
       "706                       Adventure|Drama|Sci-Fi  3.894495  \n",
       "2078                        Drama|Horror|Mystery  3.893855  \n",
       "1608                            Adventure|Comedy  3.892857  \n",
       "5165                                Comedy|Drama  3.892857  \n",
       "1432                                       Drama  3.892857  \n",
       "2191                        Crime|Drama|Thriller  3.892857  \n",
       "5572  Adventure|Animation|Comedy|Fantasy|Romance  3.892857  \n",
       "198                         Comedy|Drama|Romance  3.892857  \n",
       "9223  Action|Adventure|Animation|Children|Comedy  3.890625  \n",
       "5885                                 Crime|Drama  3.890000  \n",
       "3564                                       Drama  3.888889  \n",
       "4258                Crime|Drama|Mystery|Thriller  3.888889  \n",
       "6884                    Adventure|Drama|Thriller  3.888889  \n",
       "7078      Adventure|Fantasy|Mystery|Romance|IMAX  3.887931  \n",
       "785              Children|Comedy|Fantasy|Musical  3.887324  \n",
       "7413                                       Drama  3.885965  \n",
       "6151                 Action|Sci-Fi|Thriller|IMAX  3.885000  \n",
       "7688                                       Drama  3.884615  \n",
       "6223                                      Comedy  3.884615  \n",
       "912                        Drama|Fantasy|Romance  3.884615  \n",
       "6242                      Adventure|Comedy|Drama  3.883117  \n",
       "1230                                       Drama  3.882353  \n",
       "225                                        Drama  3.880952  \n",
       "701           Adventure|Children|Fantasy|Musical  3.880435  \n",
       "968                      Comedy|Mystery|Thriller  3.879310  "
      ]
     },
     "execution_count": 29,
     "metadata": {},
     "output_type": "execute_result"
    }
   ],
   "source": [
    "filmes_com_media.sort_values(\"nota\", ascending=False)[2450:2500]"
   ]
  },
  {
   "cell_type": "markdown",
   "metadata": {
    "colab_type": "text",
    "id": "OPzfr_Xmq2pG"
   },
   "source": [
    "Bom, ordenando os filmes pela nota médias e [fatiando](https://www.alura.com.br/artigos/listas-no-python) os dados entre 2450 e 2500, temos uma região onde as médias são semelhates e provavelmente não tem apenas um único voto. Vamos comparar o fime *Wizard of Oz, **filmeId=919** e *Little Miss Sunshine* **filmeId=46578**.\n",
    "\n",
    "Para não precisar copiar e colar toda hora o plot dos gráficos vamos criar nossa primeira função, assim passamos apenas o FilmeId e temos as informações desejadas."
   ]
  },
  {
   "cell_type": "code",
   "execution_count": 30,
   "metadata": {
    "colab": {},
    "colab_type": "code",
    "id": "izXeKOEMI6ER"
   },
   "outputs": [],
   "source": [
    "def plot_filme(n):\n",
    "  notas_do_filme = avaliacoes.query(f\"filmeId=={n}\")[\"nota\"]\n",
    "  notas_do_filme.plot(kind='hist')\n",
    "  return notas_do_filme.describe()"
   ]
  },
  {
   "cell_type": "markdown",
   "metadata": {
    "colab_type": "text",
    "id": "0m79xtW9MNAq"
   },
   "source": [
    "Definimos nossa [função plot em python](https://www.caelum.com.br/apostila-python-orientacao-objetos/funcoes/#parmetros-de-funo) e repare que estamos usando **F-string** para fazer a interpolação dos dados, se tiver tiver dúvida veja essa [explicação no fórum da alura](https://cursos.alura.com.br/forum/topico-para-que-serve-o-print-f-no-python-77720).\n",
    "\n",
    "Agora precisamos chamar a função!"
   ]
  },
  {
   "cell_type": "code",
   "execution_count": 31,
   "metadata": {
    "colab": {
     "base_uri": "https://localhost:8080/",
     "height": 421
    },
    "colab_type": "code",
    "id": "D0hq5bNXKyH7",
    "outputId": "73bd088c-f174-4de9-e1f2-2e724839fb26"
   },
   "outputs": [
    {
     "data": {
      "text/plain": [
       "count    92.000000\n",
       "mean      3.880435\n",
       "std       1.025418\n",
       "min       1.000000\n",
       "25%       3.000000\n",
       "50%       4.000000\n",
       "75%       5.000000\n",
       "max       5.000000\n",
       "Name: nota, dtype: float64"
      ]
     },
     "execution_count": 31,
     "metadata": {},
     "output_type": "execute_result"
    },
    {
     "data": {
      "image/png": "[encoded data removed]",
      "text/plain": [
       "<Figure size 432x288 with 1 Axes>"
      ]
     },
     "metadata": {},
     "output_type": "display_data"
    }
   ],
   "source": [
    "#Mágico de Oz\n",
    "plot_filme(919)"
   ]
  },
  {
   "cell_type": "markdown",
   "metadata": {
    "colab_type": "text",
    "id": "O5DXB0OFKy3b"
   },
   "source": [
    "\n",
    "\n",
    "A função plot, além de gerar o histograma também retorna algumas estatísticas. Vamos chamar a função agora para o filme *Little Miss Sunshine*."
   ]
  },
  {
   "cell_type": "code",
   "execution_count": 32,
   "metadata": {
    "colab": {
     "base_uri": "https://localhost:8080/",
     "height": 424
    },
    "colab_type": "code",
    "id": "zkC0s7BnL_h0",
    "outputId": "5c39d5af-2237-4c15-9e94-61d89bae35bf"
   },
   "outputs": [
    {
     "data": {
      "text/plain": [
       "count    77.000000\n",
       "mean      3.883117\n",
       "std       0.842522\n",
       "min       1.000000\n",
       "25%       3.500000\n",
       "50%       4.000000\n",
       "75%       4.500000\n",
       "max       5.000000\n",
       "Name: nota, dtype: float64"
      ]
     },
     "execution_count": 32,
     "metadata": {},
     "output_type": "execute_result"
    },
    {
     "data": {
      "image/png": "[encoded data removed]",
      "text/plain": [
       "<Figure size 432x288 with 1 Axes>"
      ]
     },
     "metadata": {},
     "output_type": "display_data"
    }
   ],
   "source": [
    "plot_filme(46578)"
   ]
  },
  {
   "cell_type": "markdown",
   "metadata": {
    "colab_type": "text",
    "id": "d8Yme2yUYME5"
   },
   "source": [
    "Ótimo, agora com essas informações conseguimos comparar melhor ambos os filmes. Analisando os histogramas vemos que muitas pessoas realmente amam **Wizard of Oz** (notas 5), mas também temos pessoas que não gostam de formal alguma (notas 1). Quando comparamos com a histograma temos um do **Little mis sunshine**, percebemos que os resultados se concentra entre valores medianos(notas 2.5-4). \n",
    "\n",
    "O que confirma nossa análise aqui é comparar os **25% 50% e 75%**. 50% é o valor da mediana, e ambos filmes tem mesma mediana, mas 25% e 75% são diferentes. Se você lembra lá da estatísitca esses são os [**1° 2° e 3° quartis**](https://pt.wikipedia.org/wiki/Quartil). \n",
    "\n",
    "Olha, mesclar os gráficos com as estatísticas ajuda a interpretar melhor os dados. Mas o que precisamos é uma imagem que nos ajude a interpretar os dados ainda melhor, o gráfico que nos ajuda neste caso é o **Boxplot**. Vamos adaptar nossa função para conseguir plotar o boxplot e interpretá-lo."
   ]
  },
  {
   "cell_type": "code",
   "execution_count": 33,
   "metadata": {
    "colab": {
     "base_uri": "https://localhost:8080/",
     "height": 704
    },
    "colab_type": "code",
    "id": "GfgAVFoafdZA",
    "outputId": "a6f7d0d1-7aef-465b-cf11-6ec8f9dd9bb2"
   },
   "outputs": [
    {
     "data": {
      "image/png": "[encoded data removed]",
      "text/plain": [
       "<Figure size 432x288 with 1 Axes>"
      ]
     },
     "metadata": {},
     "output_type": "display_data"
    },
    {
     "name": "stdout",
     "output_type": "stream",
     "text": [
      "\n",
      "\n"
     ]
    },
    {
     "data": {
      "image/png": "[encoded data removed]",
      "text/plain": [
       "<Figure size 432x288 with 1 Axes>"
      ]
     },
     "metadata": {},
     "output_type": "display_data"
    },
    {
     "data": {
      "text/plain": [
       "count    92.000000\n",
       "mean      3.880435\n",
       "std       1.025418\n",
       "min       1.000000\n",
       "25%       3.000000\n",
       "50%       4.000000\n",
       "75%       5.000000\n",
       "max       5.000000\n",
       "Name: nota, dtype: float64"
      ]
     },
     "execution_count": 33,
     "metadata": {},
     "output_type": "execute_result"
    }
   ],
   "source": [
    "def plot_filme(n):\n",
    "  notas_do_filme = avaliacoes.query(f\"filmeId=={n}\")[\"nota\"]\n",
    "  notas_do_filme.plot(kind='hist')\n",
    "  plt.show()\n",
    "  print('\\n')\n",
    "  notas_do_filme.plot.box()\n",
    "  plt.show()\n",
    "  return notas_do_filme.describe()\n",
    "\n",
    "plot_filme(919)"
   ]
  },
  {
   "cell_type": "markdown",
   "metadata": {
    "colab_type": "text",
    "id": "tQtVcphSh47m"
   },
   "source": [
    "E aí, viu como é simples criar criar um [boxplot com o pandas](https://pandas.pydata.org/pandas-docs/stable/reference/api/pandas.DataFrame.plot.box.html)?\n",
    "\n",
    "Apenas chamamos o método ```.plot.box()```, agora o que precisamos fazer é interpretar este gráfico.\n",
    "\n",
    "Vamos focar primeiro na \"caixa\" a linha verde que divide a caixa em dois é a mediana (compare com as estatísticas geradas pelo discribe()), a parte superior da caixa é o 3° Quartil (75%) e a parte inferior é o 1° Quartil (25%).\n",
    "\n",
    "Agora repare nos limites inferior e superior, represetados pelas extremidades em preto. Por coincidência, nesta imagem os limites inferior e superior são equivalentes ao ponto de máximo e mínimo, mas nem sempre será assim, pois esse limite superir e inferior são calculados e dependem de Q1 e Q3. Algumas vezes os limites podem sobrepor os extremos das \"caixas\" e isso geralmente ocorre quando temos uma quantidade pequena de dados.\n",
    "\n",
    "Como tivemos sobreposição do limite superior vamos calcular o boxplot de outro filme, para analisar o resultado.\n"
   ]
  },
  {
   "cell_type": "code",
   "execution_count": 34,
   "metadata": {
    "colab": {
     "base_uri": "https://localhost:8080/",
     "height": 707
    },
    "colab_type": "code",
    "id": "yi-HJ5sK17Kh",
    "outputId": "ea317637-305e-4678-8dcf-1960d913c0b4"
   },
   "outputs": [
    {
     "data": {
      "image/png": "[encoded data removed]",
      "text/plain": [
       "<Figure size 432x288 with 1 Axes>"
      ]
     },
     "metadata": {},
     "output_type": "display_data"
    },
    {
     "name": "stdout",
     "output_type": "stream",
     "text": [
      "\n",
      "\n"
     ]
    },
    {
     "data": {
      "image/png": "[encoded data removed]",
      "text/plain": [
       "<Figure size 432x288 with 1 Axes>"
      ]
     },
     "metadata": {},
     "output_type": "display_data"
    },
    {
     "data": {
      "text/plain": [
       "count    77.000000\n",
       "mean      3.883117\n",
       "std       0.842522\n",
       "min       1.000000\n",
       "25%       3.500000\n",
       "50%       4.000000\n",
       "75%       4.500000\n",
       "max       5.000000\n",
       "Name: nota, dtype: float64"
      ]
     },
     "execution_count": 34,
     "metadata": {},
     "output_type": "execute_result"
    }
   ],
   "source": [
    "plot_filme(46578)"
   ]
  },
  {
   "cell_type": "markdown",
   "metadata": {
    "colab_type": "text",
    "id": "nmtgu9Q42UNv"
   },
   "source": [
    "Olha que legal, diferente do primeiro boxplot, neste os limites superiores não se sobrepõe e temos uma informação a mais, no caso temos essa bolinha localizada em **y=1**. A \"bolinha\" chamamos de valor discrepante, por ir além dos limites inferior e superior (chamamos na aula de [outliers](https://pt.wikipedia.org/wiki/Outlier), existem várias formas de calcular os outliers, mas no nosso caso esses são os outliers do boxplot).\n",
    "\n",
    "Não vamos entrar em todos os detalhes do boxplot mas recomendo a explicação do [wikipedia](https://pt.wikipedia.org/wiki/Diagrama_de_caixa), ela é muito completa, cheias de exemplo e imagens para facilitar o entendimento.\n",
    "\n",
    "Agora comparando os boxplot dos dois filmes deixa muito mais evidente as diferenças entre elas, o que ficava complexo olhando só médias e outras informações separadas.\n",
    "\n",
    "Embora melhoramos muito nossa qualidade de análise ainda temos mais um ponto. Estamos comparando os boxplot dos filmes, mas eles estão em imagens separadas, vamos juntas vários boxplot em uma imagem só. Veja como podemos fazer isso usando o **seaborn**, para aprendermos outra forma de plotar boxplot!\n"
   ]
  },
  {
   "cell_type": "code",
   "execution_count": 35,
   "metadata": {
    "colab": {
     "base_uri": "https://localhost:8080/",
     "height": 296
    },
    "colab_type": "code",
    "id": "Lo-rlsK5vsBk",
    "outputId": "3b792896-0981-429c-d16d-2aa58fea4671"
   },
   "outputs": [
    {
     "data": {
      "text/plain": [
       "<matplotlib.axes._subplots.AxesSubplot at 0x7ffb4f697b50>"
      ]
     },
     "execution_count": 35,
     "metadata": {},
     "output_type": "execute_result"
    },
    {
     "data": {
      "image/png": "[encoded data removed]",
      "text/plain": [
       "<Figure size 432x288 with 1 Axes>"
      ]
     },
     "metadata": {},
     "output_type": "display_data"
    }
   ],
   "source": [
    "sns.boxplot(data = avaliacoes.query(\"filmeId in [1,2,919,46578]\"), x =\"filmeId\", y=\"nota\")"
   ]
  },
  {
   "cell_type": "markdown",
   "metadata": {
    "colab_type": "text",
    "id": "Mfx1Vzy-Mbtq"
   },
   "source": [
    "Chamamos o `sns.boxplot()` passando três parâmetros. Parâmetro dados é um dataframe das notas dos filmes com Toy Story, Jumanji, Wizard of Oz e Little miss sunshine (usamos o `.query()` para selecionar os dados), **x** é o Id do filme e **y** as respectivas notas. Agora conseguimos comparar as notas dos filmes de forma muito mais claram tente realiza a análise aí na sua casa!\n",
    "\n",
    "\n",
    "Com isso nós fechamos nossa segunda aula do **#quarentenadados**, viu quanta coisa aprendemos? Que tal colocar isso em prática?\n",
    "\n",
    "\n",
    "**Crie seu próprio notebook, reproduza nossa aula e resolva os desafios que deixamos para vocês**.\n",
    "\n",
    "\n",
    "Até a próxima aula!\n",
    "\n",
    "\n"
   ]
  },
  {
   "cell_type": "markdown",
   "metadata": {
    "colab_type": "text",
    "id": "97Gxt8RlPFEj"
   },
   "source": [
    "## Desafio 1 do [Guilherme Silveira](https://twitter.com/guilhermecaelum)\n",
    "\n",
    "Rotacionar os thicks (os nomes dos generos) do gráfico de barras verdes (o último), de forma a deixar as legendas mais legíveis."
   ]
  },
  {
   "cell_type": "code",
   "execution_count": 36,
   "metadata": {},
   "outputs": [
    {
     "data": {
      "image/png": "[encoded data removed]",
      "text/plain": [
       "<Figure size 1152x576 with 1 Axes>"
      ]
     },
     "metadata": {},
     "output_type": "display_data"
    }
   ],
   "source": [
    "import seaborn as sns\n",
    "sns.set_style(\"whitegrid\")\n",
    "\n",
    "filmes_por_genero = filmes[\"generos\"].str.get_dummies('|').sum().sort_values(ascending=False)\n",
    "plt.figure(figsize=(16,8))\n",
    "grafico = sns.barplot(x=filmes_por_genero.index,\n",
    "            y=filmes_por_genero.values,\n",
    "            palette=sns.color_palette(\"BuGn_r\", n_colors=len(filmes_por_genero) + 4))\n",
    "\n",
    "grafico.set_xticklabels(grafico.get_xticklabels(), rotation=45)\n",
    "plt.show()"
   ]
  },
  {
   "cell_type": "code",
   "execution_count": 37,
   "metadata": {},
   "outputs": [
    {
     "data": {
      "image/png": "[encoded data removed]",
      "text/plain": [
       "<Figure size 1152x576 with 1 Axes>"
      ]
     },
     "metadata": {},
     "output_type": "display_data"
    }
   ],
   "source": [
    "import seaborn as sns\n",
    "sns.set_style(\"whitegrid\")\n",
    "\n",
    "filmes_por_genero = filmes[\"generos\"].str.get_dummies('|').sum().sort_values(ascending=False)\n",
    "plt.figure(figsize=(16,8))\n",
    "grafico = sns.barplot(x=filmes_por_genero.index,\n",
    "            y=filmes_por_genero.values,\n",
    "            palette=sns.color_palette(\"BuGn_r\", n_colors=len(filmes_por_genero) + 4))\n",
    "\n",
    "plt.xticks(rotation=45)\n",
    "plt.show()"
   ]
  },
  {
   "cell_type": "markdown",
   "metadata": {
    "colab_type": "text",
    "id": "5uIsDpkAz8oa"
   },
   "source": [
    "## Desafio 2 do [Paulo Silveira](https://twitter.com/paulo_caelum)\n",
    "\n",
    "Encontar vários filmes com médias próximas e distribuições diferentes, use a função **plot_filmes(n)** para plotar."
   ]
  },
  {
   "cell_type": "code",
   "execution_count": 38,
   "metadata": {},
   "outputs": [],
   "source": [
    "mediana_filme = avaliacoes.groupby(\"filmeId\")[\"nota\"].median()\n",
    "mediana_filme = mediana_filme.rename(\"mediana\")"
   ]
  },
  {
   "cell_type": "code",
   "execution_count": 39,
   "metadata": {},
   "outputs": [
    {
     "data": {
      "text/plain": [
       "filmeId\n",
       "1    4.0\n",
       "2    3.5\n",
       "3    3.0\n",
       "4    3.0\n",
       "5    3.0\n",
       "Name: mediana, dtype: float64"
      ]
     },
     "execution_count": 39,
     "metadata": {},
     "output_type": "execute_result"
    }
   ],
   "source": [
    "mediana_filme.head()"
   ]
  },
  {
   "cell_type": "code",
   "execution_count": 40,
   "metadata": {},
   "outputs": [],
   "source": [
    "filmes_media_mediana = filmes_com_media.join(mediana_filme, on='filmeId')"
   ]
  },
  {
   "cell_type": "code",
   "execution_count": 41,
   "metadata": {},
   "outputs": [
    {
     "name": "stdout",
     "output_type": "stream",
     "text": [
      "filmeId                           4\n",
      "titulo     Waiting to Exhale (1995)\n",
      "generos        Comedy|Drama|Romance\n",
      "nota                        2.35714\n",
      "mediana                           3\n",
      "Name: 3, dtype: object\n",
      "\n",
      "filmeId                                     5\n",
      "titulo     Father of the Bride Part II (1995)\n",
      "generos                                Comedy\n",
      "nota                                  3.07143\n",
      "mediana                                     3\n",
      "Name: 4, dtype: object\n",
      "\n",
      "filmeId                      8\n",
      "titulo     Tom and Huck (1995)\n",
      "generos     Adventure|Children\n",
      "nota                     2.875\n",
      "mediana                      3\n",
      "Name: 7, dtype: object\n",
      "\n",
      "filmeId                                    12\n",
      "titulo     Dracula: Dead and Loving It (1995)\n",
      "generos                         Comedy|Horror\n",
      "nota                                  2.42105\n",
      "mediana                                     3\n",
      "Name: 11, dtype: object\n",
      "\n",
      "filmeId                          15\n",
      "titulo      Cutthroat Island (1995)\n",
      "generos    Action|Adventure|Romance\n",
      "nota                              3\n",
      "mediana                           3\n",
      "Name: 14, dtype: object\n",
      "\n"
     ]
    }
   ],
   "source": [
    "count = 0\n",
    "for i in range(len(filmes_media_mediana)):\n",
    "    if filmes_media_mediana.loc[i, \"mediana\"] == 3 and filmes_media_mediana.loc[i, 'nota'] < 3.1:\n",
    "        print(filmes_media_mediana.loc[i, :], end=\"\\n\\n\")\n",
    "        count += 1\n",
    "        if count == 5:\n",
    "            break\n"
   ]
  },
  {
   "cell_type": "code",
   "execution_count": 42,
   "metadata": {},
   "outputs": [
    {
     "data": {
      "image/png": "[encoded data removed]",
      "text/plain": [
       "<Figure size 432x288 with 1 Axes>"
      ]
     },
     "metadata": {},
     "output_type": "display_data"
    },
    {
     "name": "stdout",
     "output_type": "stream",
     "text": [
      "\n",
      "\n"
     ]
    },
    {
     "data": {
      "image/png": "[encoded data removed]",
      "text/plain": [
       "<Figure size 432x288 with 1 Axes>"
      ]
     },
     "metadata": {},
     "output_type": "display_data"
    },
    {
     "data": {
      "text/plain": [
       "count    7.000000\n",
       "mean     2.357143\n",
       "std      0.852168\n",
       "min      1.000000\n",
       "25%      1.750000\n",
       "50%      3.000000\n",
       "75%      3.000000\n",
       "max      3.000000\n",
       "Name: nota, dtype: float64"
      ]
     },
     "execution_count": 42,
     "metadata": {},
     "output_type": "execute_result"
    }
   ],
   "source": [
    "plot_filme(4)"
   ]
  },
  {
   "cell_type": "code",
   "execution_count": 43,
   "metadata": {},
   "outputs": [
    {
     "data": {
      "image/png": "[encoded data removed]",
      "text/plain": [
       "<Figure size 432x288 with 1 Axes>"
      ]
     },
     "metadata": {},
     "output_type": "display_data"
    },
    {
     "name": "stdout",
     "output_type": "stream",
     "text": [
      "\n",
      "\n"
     ]
    },
    {
     "data": {
      "image/png": "[encoded data removed]",
      "text/plain": [
       "<Figure size 432x288 with 1 Axes>"
      ]
     },
     "metadata": {},
     "output_type": "display_data"
    },
    {
     "data": {
      "text/plain": [
       "count    19.000000\n",
       "mean      2.421053\n",
       "std       1.250146\n",
       "min       1.000000\n",
       "25%       1.000000\n",
       "50%       3.000000\n",
       "75%       3.000000\n",
       "max       5.000000\n",
       "Name: nota, dtype: float64"
      ]
     },
     "execution_count": 43,
     "metadata": {},
     "output_type": "execute_result"
    }
   ],
   "source": [
    "plot_filme(12)"
   ]
  },
  {
   "cell_type": "markdown",
   "metadata": {
    "colab_type": "text",
    "id": "NStHNYlcQrhs"
   },
   "source": [
    "## Desafio 3 do [Paulo Silveira](https://twitter.com/paulo_caelum)\n",
    "\n",
    " Criar o boxplot dos 10 filmes com mais votos (não é com maior média, é com mais votos!). Não apenas plot mas também analise e tente tirar conclusões."
   ]
  },
  {
   "cell_type": "code",
   "execution_count": 44,
   "metadata": {},
   "outputs": [
    {
     "data": {
      "text/html": [
       "<div>\n",
       "<style scoped>\n",
       "    .dataframe tbody tr th:only-of-type {\n",
       "        vertical-align: middle;\n",
       "    }\n",
       "\n",
       "    .dataframe tbody tr th {\n",
       "        vertical-align: top;\n",
       "    }\n",
       "\n",
       "    .dataframe thead th {\n",
       "        text-align: right;\n",
       "    }\n",
       "</style>\n",
       "<table border=\"1\" class=\"dataframe\">\n",
       "  <thead>\n",
       "    <tr style=\"text-align: right;\">\n",
       "      <th></th>\n",
       "      <th>filmeId</th>\n",
       "      <th>titulo</th>\n",
       "      <th>generos</th>\n",
       "      <th>nota</th>\n",
       "      <th>mediana</th>\n",
       "    </tr>\n",
       "  </thead>\n",
       "  <tbody>\n",
       "    <tr>\n",
       "      <td>0</td>\n",
       "      <td>1</td>\n",
       "      <td>Toy Story (1995)</td>\n",
       "      <td>Adventure|Animation|Children|Comedy|Fantasy</td>\n",
       "      <td>3.920930</td>\n",
       "      <td>4.0</td>\n",
       "    </tr>\n",
       "    <tr>\n",
       "      <td>1</td>\n",
       "      <td>2</td>\n",
       "      <td>Jumanji (1995)</td>\n",
       "      <td>Adventure|Children|Fantasy</td>\n",
       "      <td>3.431818</td>\n",
       "      <td>3.5</td>\n",
       "    </tr>\n",
       "    <tr>\n",
       "      <td>2</td>\n",
       "      <td>3</td>\n",
       "      <td>Grumpier Old Men (1995)</td>\n",
       "      <td>Comedy|Romance</td>\n",
       "      <td>3.259615</td>\n",
       "      <td>3.0</td>\n",
       "    </tr>\n",
       "    <tr>\n",
       "      <td>3</td>\n",
       "      <td>4</td>\n",
       "      <td>Waiting to Exhale (1995)</td>\n",
       "      <td>Comedy|Drama|Romance</td>\n",
       "      <td>2.357143</td>\n",
       "      <td>3.0</td>\n",
       "    </tr>\n",
       "    <tr>\n",
       "      <td>4</td>\n",
       "      <td>5</td>\n",
       "      <td>Father of the Bride Part II (1995)</td>\n",
       "      <td>Comedy</td>\n",
       "      <td>3.071429</td>\n",
       "      <td>3.0</td>\n",
       "    </tr>\n",
       "  </tbody>\n",
       "</table>\n",
       "</div>"
      ],
      "text/plain": [
       "   filmeId                              titulo  \\\n",
       "0        1                    Toy Story (1995)   \n",
       "1        2                      Jumanji (1995)   \n",
       "2        3             Grumpier Old Men (1995)   \n",
       "3        4            Waiting to Exhale (1995)   \n",
       "4        5  Father of the Bride Part II (1995)   \n",
       "\n",
       "                                       generos      nota  mediana  \n",
       "0  Adventure|Animation|Children|Comedy|Fantasy  3.920930      4.0  \n",
       "1                   Adventure|Children|Fantasy  3.431818      3.5  \n",
       "2                               Comedy|Romance  3.259615      3.0  \n",
       "3                         Comedy|Drama|Romance  2.357143      3.0  \n",
       "4                                       Comedy  3.071429      3.0  "
      ]
     },
     "execution_count": 44,
     "metadata": {},
     "output_type": "execute_result"
    }
   ],
   "source": [
    "filmes_media_mediana.head()"
   ]
  },
  {
   "cell_type": "code",
   "execution_count": 45,
   "metadata": {},
   "outputs": [],
   "source": [
    "votos = avaliacoes.groupby('filmeId')['nota'].count()"
   ]
  },
  {
   "cell_type": "code",
   "execution_count": 46,
   "metadata": {},
   "outputs": [],
   "source": [
    "votos = votos.rename('votos')"
   ]
  },
  {
   "cell_type": "code",
   "execution_count": 47,
   "metadata": {},
   "outputs": [],
   "source": [
    "info_filmes = filmes_media_mediana.join(votos, on=\"filmeId\")"
   ]
  },
  {
   "cell_type": "code",
   "execution_count": 48,
   "metadata": {},
   "outputs": [],
   "source": [
    "top_10_mais_votados = info_filmes.sort_values(by='votos', ascending=False).head(10)"
   ]
  },
  {
   "cell_type": "code",
   "execution_count": 49,
   "metadata": {
    "scrolled": true
   },
   "outputs": [
    {
     "data": {
      "text/html": [
       "<div>\n",
       "<style scoped>\n",
       "    .dataframe tbody tr th:only-of-type {\n",
       "        vertical-align: middle;\n",
       "    }\n",
       "\n",
       "    .dataframe tbody tr th {\n",
       "        vertical-align: top;\n",
       "    }\n",
       "\n",
       "    .dataframe thead th {\n",
       "        text-align: right;\n",
       "    }\n",
       "</style>\n",
       "<table border=\"1\" class=\"dataframe\">\n",
       "  <thead>\n",
       "    <tr style=\"text-align: right;\">\n",
       "      <th></th>\n",
       "      <th>filmeId</th>\n",
       "      <th>titulo</th>\n",
       "      <th>generos</th>\n",
       "      <th>nota</th>\n",
       "      <th>mediana</th>\n",
       "      <th>votos</th>\n",
       "    </tr>\n",
       "  </thead>\n",
       "  <tbody>\n",
       "    <tr>\n",
       "      <td>314</td>\n",
       "      <td>356</td>\n",
       "      <td>Forrest Gump (1994)</td>\n",
       "      <td>Comedy|Drama|Romance|War</td>\n",
       "      <td>4.164134</td>\n",
       "      <td>4.0</td>\n",
       "      <td>329.0</td>\n",
       "    </tr>\n",
       "    <tr>\n",
       "      <td>277</td>\n",
       "      <td>318</td>\n",
       "      <td>Shawshank Redemption, The (1994)</td>\n",
       "      <td>Crime|Drama</td>\n",
       "      <td>4.429022</td>\n",
       "      <td>4.5</td>\n",
       "      <td>317.0</td>\n",
       "    </tr>\n",
       "    <tr>\n",
       "      <td>257</td>\n",
       "      <td>296</td>\n",
       "      <td>Pulp Fiction (1994)</td>\n",
       "      <td>Comedy|Crime|Drama|Thriller</td>\n",
       "      <td>4.197068</td>\n",
       "      <td>4.5</td>\n",
       "      <td>307.0</td>\n",
       "    </tr>\n",
       "    <tr>\n",
       "      <td>510</td>\n",
       "      <td>593</td>\n",
       "      <td>Silence of the Lambs, The (1991)</td>\n",
       "      <td>Crime|Horror|Thriller</td>\n",
       "      <td>4.161290</td>\n",
       "      <td>4.0</td>\n",
       "      <td>279.0</td>\n",
       "    </tr>\n",
       "    <tr>\n",
       "      <td>1939</td>\n",
       "      <td>2571</td>\n",
       "      <td>Matrix, The (1999)</td>\n",
       "      <td>Action|Sci-Fi|Thriller</td>\n",
       "      <td>4.192446</td>\n",
       "      <td>4.5</td>\n",
       "      <td>278.0</td>\n",
       "    </tr>\n",
       "    <tr>\n",
       "      <td>224</td>\n",
       "      <td>260</td>\n",
       "      <td>Star Wars: Episode IV - A New Hope (1977)</td>\n",
       "      <td>Action|Adventure|Sci-Fi</td>\n",
       "      <td>4.231076</td>\n",
       "      <td>4.5</td>\n",
       "      <td>251.0</td>\n",
       "    </tr>\n",
       "    <tr>\n",
       "      <td>418</td>\n",
       "      <td>480</td>\n",
       "      <td>Jurassic Park (1993)</td>\n",
       "      <td>Action|Adventure|Sci-Fi|Thriller</td>\n",
       "      <td>3.750000</td>\n",
       "      <td>4.0</td>\n",
       "      <td>238.0</td>\n",
       "    </tr>\n",
       "    <tr>\n",
       "      <td>97</td>\n",
       "      <td>110</td>\n",
       "      <td>Braveheart (1995)</td>\n",
       "      <td>Action|Drama|War</td>\n",
       "      <td>4.031646</td>\n",
       "      <td>4.0</td>\n",
       "      <td>237.0</td>\n",
       "    </tr>\n",
       "    <tr>\n",
       "      <td>507</td>\n",
       "      <td>589</td>\n",
       "      <td>Terminator 2: Judgment Day (1991)</td>\n",
       "      <td>Action|Sci-Fi</td>\n",
       "      <td>3.970982</td>\n",
       "      <td>4.0</td>\n",
       "      <td>224.0</td>\n",
       "    </tr>\n",
       "    <tr>\n",
       "      <td>461</td>\n",
       "      <td>527</td>\n",
       "      <td>Schindler's List (1993)</td>\n",
       "      <td>Drama|War</td>\n",
       "      <td>4.225000</td>\n",
       "      <td>4.5</td>\n",
       "      <td>220.0</td>\n",
       "    </tr>\n",
       "  </tbody>\n",
       "</table>\n",
       "</div>"
      ],
      "text/plain": [
       "      filmeId                                     titulo  \\\n",
       "314       356                        Forrest Gump (1994)   \n",
       "277       318           Shawshank Redemption, The (1994)   \n",
       "257       296                        Pulp Fiction (1994)   \n",
       "510       593           Silence of the Lambs, The (1991)   \n",
       "1939     2571                         Matrix, The (1999)   \n",
       "224       260  Star Wars: Episode IV - A New Hope (1977)   \n",
       "418       480                       Jurassic Park (1993)   \n",
       "97        110                          Braveheart (1995)   \n",
       "507       589          Terminator 2: Judgment Day (1991)   \n",
       "461       527                    Schindler's List (1993)   \n",
       "\n",
       "                               generos      nota  mediana  votos  \n",
       "314           Comedy|Drama|Romance|War  4.164134      4.0  329.0  \n",
       "277                        Crime|Drama  4.429022      4.5  317.0  \n",
       "257        Comedy|Crime|Drama|Thriller  4.197068      4.5  307.0  \n",
       "510              Crime|Horror|Thriller  4.161290      4.0  279.0  \n",
       "1939            Action|Sci-Fi|Thriller  4.192446      4.5  278.0  \n",
       "224            Action|Adventure|Sci-Fi  4.231076      4.5  251.0  \n",
       "418   Action|Adventure|Sci-Fi|Thriller  3.750000      4.0  238.0  \n",
       "97                    Action|Drama|War  4.031646      4.0  237.0  \n",
       "507                      Action|Sci-Fi  3.970982      4.0  224.0  \n",
       "461                          Drama|War  4.225000      4.5  220.0  "
      ]
     },
     "execution_count": 49,
     "metadata": {},
     "output_type": "execute_result"
    }
   ],
   "source": [
    "top_10_mais_votados"
   ]
  },
  {
   "cell_type": "code",
   "execution_count": 50,
   "metadata": {
    "scrolled": true
   },
   "outputs": [
    {
     "data": {
      "image/png": "[encoded data removed]",
      "text/plain": [
       "<Figure size 432x288 with 1 Axes>"
      ]
     },
     "metadata": {},
     "output_type": "display_data"
    },
    {
     "name": "stdout",
     "output_type": "stream",
     "text": [
      "\n",
      "\n"
     ]
    },
    {
     "data": {
      "image/png": "[encoded data removed]",
      "text/plain": [
       "<Figure size 432x288 with 1 Axes>"
      ]
     },
     "metadata": {},
     "output_type": "display_data"
    },
    {
     "data": {
      "text/plain": [
       "count    329.000000\n",
       "mean       4.164134\n",
       "std        0.831244\n",
       "min        0.500000\n",
       "25%        4.000000\n",
       "50%        4.000000\n",
       "75%        5.000000\n",
       "max        5.000000\n",
       "Name: nota, dtype: float64"
      ]
     },
     "execution_count": 50,
     "metadata": {},
     "output_type": "execute_result"
    }
   ],
   "source": [
    "plot_filme(356)"
   ]
  },
  {
   "cell_type": "code",
   "execution_count": 51,
   "metadata": {},
   "outputs": [
    {
     "data": {
      "image/png": "[encoded data removed]",
      "text/plain": [
       "<Figure size 432x288 with 1 Axes>"
      ]
     },
     "metadata": {},
     "output_type": "display_data"
    },
    {
     "name": "stdout",
     "output_type": "stream",
     "text": [
      "\n",
      "\n"
     ]
    },
    {
     "data": {
      "image/png": "[encoded data removed]",
      "text/plain": [
       "<Figure size 432x288 with 1 Axes>"
      ]
     },
     "metadata": {},
     "output_type": "display_data"
    },
    {
     "data": {
      "text/plain": [
       "count    317.000000\n",
       "mean       4.429022\n",
       "std        0.713019\n",
       "min        1.000000\n",
       "25%        4.000000\n",
       "50%        4.500000\n",
       "75%        5.000000\n",
       "max        5.000000\n",
       "Name: nota, dtype: float64"
      ]
     },
     "execution_count": 51,
     "metadata": {},
     "output_type": "execute_result"
    }
   ],
   "source": [
    "plot_filme(318)"
   ]
  },
  {
   "cell_type": "code",
   "execution_count": 52,
   "metadata": {},
   "outputs": [
    {
     "data": {
      "image/png": "[encoded data removed]",
      "text/plain": [
       "<Figure size 432x288 with 1 Axes>"
      ]
     },
     "metadata": {},
     "output_type": "display_data"
    },
    {
     "name": "stdout",
     "output_type": "stream",
     "text": [
      "\n",
      "\n"
     ]
    },
    {
     "data": {
      "image/png": "[encoded data removed]",
      "text/plain": [
       "<Figure size 432x288 with 1 Axes>"
      ]
     },
     "metadata": {},
     "output_type": "display_data"
    },
    {
     "data": {
      "text/plain": [
       "count    307.000000\n",
       "mean       4.197068\n",
       "std        0.951997\n",
       "min        0.500000\n",
       "25%        4.000000\n",
       "50%        4.500000\n",
       "75%        5.000000\n",
       "max        5.000000\n",
       "Name: nota, dtype: float64"
      ]
     },
     "execution_count": 52,
     "metadata": {},
     "output_type": "execute_result"
    }
   ],
   "source": [
    "plot_filme(296)"
   ]
  },
  {
   "cell_type": "code",
   "execution_count": 53,
   "metadata": {},
   "outputs": [
    {
     "data": {
      "image/png": "[encoded data removed]",
      "text/plain": [
       "<Figure size 432x288 with 1 Axes>"
      ]
     },
     "metadata": {},
     "output_type": "display_data"
    },
    {
     "name": "stdout",
     "output_type": "stream",
     "text": [
      "\n",
      "\n"
     ]
    },
    {
     "data": {
      "image/png": "[encoded data removed]",
      "text/plain": [
       "<Figure size 432x288 with 1 Axes>"
      ]
     },
     "metadata": {},
     "output_type": "display_data"
    },
    {
     "data": {
      "text/plain": [
       "count    279.000000\n",
       "mean       4.161290\n",
       "std        0.853983\n",
       "min        0.500000\n",
       "25%        4.000000\n",
       "50%        4.000000\n",
       "75%        5.000000\n",
       "max        5.000000\n",
       "Name: nota, dtype: float64"
      ]
     },
     "execution_count": 53,
     "metadata": {},
     "output_type": "execute_result"
    }
   ],
   "source": [
    "plot_filme(593)"
   ]
  },
  {
   "cell_type": "code",
   "execution_count": 54,
   "metadata": {},
   "outputs": [
    {
     "data": {
      "image/png": "[encoded data removed]",
      "text/plain": [
       "<Figure size 432x288 with 1 Axes>"
      ]
     },
     "metadata": {},
     "output_type": "display_data"
    },
    {
     "name": "stdout",
     "output_type": "stream",
     "text": [
      "\n",
      "\n"
     ]
    },
    {
     "data": {
      "image/png": "[encoded data removed]",
      "text/plain": [
       "<Figure size 432x288 with 1 Axes>"
      ]
     },
     "metadata": {},
     "output_type": "display_data"
    },
    {
     "data": {
      "text/plain": [
       "count    278.000000\n",
       "mean       4.192446\n",
       "std        0.975243\n",
       "min        0.500000\n",
       "25%        4.000000\n",
       "50%        4.500000\n",
       "75%        5.000000\n",
       "max        5.000000\n",
       "Name: nota, dtype: float64"
      ]
     },
     "execution_count": 54,
     "metadata": {},
     "output_type": "execute_result"
    }
   ],
   "source": [
    "plot_filme(2571)"
   ]
  },
  {
   "cell_type": "code",
   "execution_count": 55,
   "metadata": {},
   "outputs": [
    {
     "data": {
      "image/png": "[encoded data removed]",
      "text/plain": [
       "<Figure size 432x288 with 1 Axes>"
      ]
     },
     "metadata": {},
     "output_type": "display_data"
    },
    {
     "name": "stdout",
     "output_type": "stream",
     "text": [
      "\n",
      "\n"
     ]
    },
    {
     "data": {
      "image/png": "[encoded data removed]",
      "text/plain": [
       "<Figure size 432x288 with 1 Axes>"
      ]
     },
     "metadata": {},
     "output_type": "display_data"
    },
    {
     "data": {
      "text/plain": [
       "count    251.000000\n",
       "mean       4.231076\n",
       "std        0.872004\n",
       "min        0.500000\n",
       "25%        4.000000\n",
       "50%        4.500000\n",
       "75%        5.000000\n",
       "max        5.000000\n",
       "Name: nota, dtype: float64"
      ]
     },
     "execution_count": 55,
     "metadata": {},
     "output_type": "execute_result"
    }
   ],
   "source": [
    "plot_filme(260)"
   ]
  },
  {
   "cell_type": "code",
   "execution_count": 56,
   "metadata": {},
   "outputs": [
    {
     "data": {
      "image/png": "[encoded data removed]",
      "text/plain": [
       "<Figure size 432x288 with 1 Axes>"
      ]
     },
     "metadata": {},
     "output_type": "display_data"
    },
    {
     "name": "stdout",
     "output_type": "stream",
     "text": [
      "\n",
      "\n"
     ]
    },
    {
     "data": {
      "image/png": "[encoded data removed]",
      "text/plain": [
       "<Figure size 432x288 with 1 Axes>"
      ]
     },
     "metadata": {},
     "output_type": "display_data"
    },
    {
     "data": {
      "text/plain": [
       "count    238.000000\n",
       "mean       3.750000\n",
       "std        0.855301\n",
       "min        0.500000\n",
       "25%        3.000000\n",
       "50%        4.000000\n",
       "75%        4.000000\n",
       "max        5.000000\n",
       "Name: nota, dtype: float64"
      ]
     },
     "execution_count": 56,
     "metadata": {},
     "output_type": "execute_result"
    }
   ],
   "source": [
    "plot_filme(480)"
   ]
  },
  {
   "cell_type": "code",
   "execution_count": 57,
   "metadata": {},
   "outputs": [
    {
     "data": {
      "image/png": "[encoded data removed]",
      "text/plain": [
       "<Figure size 432x288 with 1 Axes>"
      ]
     },
     "metadata": {},
     "output_type": "display_data"
    },
    {
     "name": "stdout",
     "output_type": "stream",
     "text": [
      "\n",
      "\n"
     ]
    },
    {
     "data": {
      "image/png": "[encoded data removed]",
      "text/plain": [
       "<Figure size 432x288 with 1 Axes>"
      ]
     },
     "metadata": {},
     "output_type": "display_data"
    },
    {
     "data": {
      "text/plain": [
       "count    237.000000\n",
       "mean       4.031646\n",
       "std        0.967726\n",
       "min        0.500000\n",
       "25%        3.500000\n",
       "50%        4.000000\n",
       "75%        5.000000\n",
       "max        5.000000\n",
       "Name: nota, dtype: float64"
      ]
     },
     "execution_count": 57,
     "metadata": {},
     "output_type": "execute_result"
    }
   ],
   "source": [
    "plot_filme(110)"
   ]
  },
  {
   "cell_type": "code",
   "execution_count": 58,
   "metadata": {},
   "outputs": [
    {
     "data": {
      "image/png": "[encoded data removed]",
      "text/plain": [
       "<Figure size 432x288 with 1 Axes>"
      ]
     },
     "metadata": {},
     "output_type": "display_data"
    },
    {
     "name": "stdout",
     "output_type": "stream",
     "text": [
      "\n",
      "\n"
     ]
    },
    {
     "data": {
      "image/png": "[encoded data removed]",
      "text/plain": [
       "<Figure size 432x288 with 1 Axes>"
      ]
     },
     "metadata": {},
     "output_type": "display_data"
    },
    {
     "data": {
      "text/plain": [
       "count    224.000000\n",
       "mean       3.970982\n",
       "std        0.926833\n",
       "min        0.500000\n",
       "25%        3.500000\n",
       "50%        4.000000\n",
       "75%        5.000000\n",
       "max        5.000000\n",
       "Name: nota, dtype: float64"
      ]
     },
     "execution_count": 58,
     "metadata": {},
     "output_type": "execute_result"
    }
   ],
   "source": [
    "plot_filme(589)"
   ]
  },
  {
   "cell_type": "code",
   "execution_count": 59,
   "metadata": {
    "scrolled": false
   },
   "outputs": [
    {
     "data": {
      "image/png": "[encoded data removed]",
      "text/plain": [
       "<Figure size 432x288 with 1 Axes>"
      ]
     },
     "metadata": {},
     "output_type": "display_data"
    },
    {
     "name": "stdout",
     "output_type": "stream",
     "text": [
      "\n",
      "\n"
     ]
    },
    {
     "data": {
      "image/png": "[encoded data removed]",
      "text/plain": [
       "<Figure size 432x288 with 1 Axes>"
      ]
     },
     "metadata": {},
     "output_type": "display_data"
    },
    {
     "data": {
      "text/plain": [
       "count    220.000000\n",
       "mean       4.225000\n",
       "std        0.975996\n",
       "min        0.500000\n",
       "25%        4.000000\n",
       "50%        4.500000\n",
       "75%        5.000000\n",
       "max        5.000000\n",
       "Name: nota, dtype: float64"
      ]
     },
     "execution_count": 59,
     "metadata": {},
     "output_type": "execute_result"
    }
   ],
   "source": [
    "plot_filme(527)"
   ]
  },
  {
   "cell_type": "code",
   "execution_count": 75,
   "metadata": {},
   "outputs": [
    {
     "data": {
      "image/png": "[encoded data removed]",
      "text/plain": [
       "<Figure size 1296x576 with 1 Axes>"
      ]
     },
     "metadata": {},
     "output_type": "display_data"
    }
   ],
   "source": [
    "top_10_votos_por_filme = top_10_mais_votados.sort_values(by='votos', ascending=False).head(10)\n",
    "top_10_votos_por_filme_titulos = top_10_votos_por_filme['titulo'].to_list()\n",
    "top_10_votos_por_filme_ids = top_10_votos_por_filme['filmeId'].to_list()\n",
    "\n",
    "plt.figure(figsize=(18, 8))\n",
    "ax = sns.boxplot(x='filmeId', y='nota', data=avaliacoes.query(f\"filmeId in {top_10_votos_por_filme_ids}\"))\n",
    "ax.set_xticklabels(top_10_votos_por_filme_titulos, fontsize=12)\n",
    "ax.set_xlabel(\"Filme\", fontsize=16)\n",
    "ax.set_ylabel(\"Nota\", fontsize=16)\n",
    "plt.xticks(rotation=80)\n",
    "\n",
    "plt.show()"
   ]
  },
  {
   "cell_type": "markdown",
   "metadata": {
    "colab_type": "text",
    "id": "0ogSopISSYqK"
   },
   "source": [
    "## Desafio 4 do [Guilherme Silveira](https://twitter.com/guilhermecaelum)\n",
    "\n",
    "Configurar a visualização do boxplot gerado pelo seaborn (último boxplot plotado na aula). Configurar o tamanho e colocar o nome dos filmes nos thicks."
   ]
  },
  {
   "cell_type": "code",
   "execution_count": 60,
   "metadata": {
    "scrolled": true
   },
   "outputs": [
    {
     "data": {
      "image/png": "[encoded data removed]",
      "text/plain": [
       "<Figure size 432x288 with 1 Axes>"
      ]
     },
     "metadata": {},
     "output_type": "display_data"
    }
   ],
   "source": [
    "grafico = sns.barplot(x=top_10_mais_votados['titulo'],\n",
    "            y=top_10_mais_votados['votos'],\n",
    "            palette=sns.color_palette(\"BuGn_r\", n_colors=len(filmes_por_genero)))\n",
    "grafico.set_xticklabels(grafico.get_xticklabels(), rotation=90)\n",
    "figsize=(10,10)\n",
    "\n",
    "plt.show()"
   ]
  },
  {
   "cell_type": "code",
   "execution_count": 77,
   "metadata": {},
   "outputs": [
    {
     "data": {
      "image/png": "[encoded data removed]",
      "text/plain": [
       "<Figure size 864x432 with 1 Axes>"
      ]
     },
     "metadata": {},
     "output_type": "display_data"
    }
   ],
   "source": [
    "plt.figure(figsize=(12, 6))\n",
    "ax = sns.boxplot(data = avaliacoes.query(\"filmeId in [1,2,919,46578]\"), x=\"filmeId\", y=\"nota\")\n",
    "\n",
    "ax.set_xticklabels(filmes.query(\"filmeId in [1,2,919,46578]\")['titulo'], fontsize=12)\n",
    "ax.set_xlabel(\"Filme\", fontsize=16)\n",
    "ax.set_ylabel(\"Nota\", fontsize=16)\n",
    "plt.show()"
   ]
  },
  {
   "cell_type": "markdown",
   "metadata": {
    "colab_type": "text",
    "id": "xpVPzWlhTjiw"
   },
   "source": [
    "## Desafio 5 do [Allan Spadini](https://twitter.com/allanspadini)\n",
    "\n",
    "Calcular moda, média e mediana dos filmes. Explore filmes com notas mais próximas de 0.5, 3 e 5."
   ]
  },
  {
   "cell_type": "code",
   "execution_count": 61,
   "metadata": {},
   "outputs": [
    {
     "data": {
      "text/html": [
       "<div>\n",
       "<style scoped>\n",
       "    .dataframe tbody tr th:only-of-type {\n",
       "        vertical-align: middle;\n",
       "    }\n",
       "\n",
       "    .dataframe tbody tr th {\n",
       "        vertical-align: top;\n",
       "    }\n",
       "\n",
       "    .dataframe thead th {\n",
       "        text-align: right;\n",
       "    }\n",
       "</style>\n",
       "<table border=\"1\" class=\"dataframe\">\n",
       "  <thead>\n",
       "    <tr style=\"text-align: right;\">\n",
       "      <th></th>\n",
       "      <th>filmeId</th>\n",
       "      <th>titulo</th>\n",
       "      <th>generos</th>\n",
       "      <th>media</th>\n",
       "      <th>mediana</th>\n",
       "      <th>votos</th>\n",
       "    </tr>\n",
       "  </thead>\n",
       "  <tbody>\n",
       "    <tr>\n",
       "      <td>0</td>\n",
       "      <td>1</td>\n",
       "      <td>Toy Story (1995)</td>\n",
       "      <td>Adventure|Animation|Children|Comedy|Fantasy</td>\n",
       "      <td>3.920930</td>\n",
       "      <td>4.0</td>\n",
       "      <td>215.0</td>\n",
       "    </tr>\n",
       "    <tr>\n",
       "      <td>1</td>\n",
       "      <td>2</td>\n",
       "      <td>Jumanji (1995)</td>\n",
       "      <td>Adventure|Children|Fantasy</td>\n",
       "      <td>3.431818</td>\n",
       "      <td>3.5</td>\n",
       "      <td>110.0</td>\n",
       "    </tr>\n",
       "    <tr>\n",
       "      <td>2</td>\n",
       "      <td>3</td>\n",
       "      <td>Grumpier Old Men (1995)</td>\n",
       "      <td>Comedy|Romance</td>\n",
       "      <td>3.259615</td>\n",
       "      <td>3.0</td>\n",
       "      <td>52.0</td>\n",
       "    </tr>\n",
       "    <tr>\n",
       "      <td>3</td>\n",
       "      <td>4</td>\n",
       "      <td>Waiting to Exhale (1995)</td>\n",
       "      <td>Comedy|Drama|Romance</td>\n",
       "      <td>2.357143</td>\n",
       "      <td>3.0</td>\n",
       "      <td>7.0</td>\n",
       "    </tr>\n",
       "    <tr>\n",
       "      <td>4</td>\n",
       "      <td>5</td>\n",
       "      <td>Father of the Bride Part II (1995)</td>\n",
       "      <td>Comedy</td>\n",
       "      <td>3.071429</td>\n",
       "      <td>3.0</td>\n",
       "      <td>49.0</td>\n",
       "    </tr>\n",
       "    <tr>\n",
       "      <td>...</td>\n",
       "      <td>...</td>\n",
       "      <td>...</td>\n",
       "      <td>...</td>\n",
       "      <td>...</td>\n",
       "      <td>...</td>\n",
       "      <td>...</td>\n",
       "    </tr>\n",
       "    <tr>\n",
       "      <td>9737</td>\n",
       "      <td>193581</td>\n",
       "      <td>Black Butler: Book of the Atlantic (2017)</td>\n",
       "      <td>Action|Animation|Comedy|Fantasy</td>\n",
       "      <td>4.000000</td>\n",
       "      <td>4.0</td>\n",
       "      <td>1.0</td>\n",
       "    </tr>\n",
       "    <tr>\n",
       "      <td>9738</td>\n",
       "      <td>193583</td>\n",
       "      <td>No Game No Life: Zero (2017)</td>\n",
       "      <td>Animation|Comedy|Fantasy</td>\n",
       "      <td>3.500000</td>\n",
       "      <td>3.5</td>\n",
       "      <td>1.0</td>\n",
       "    </tr>\n",
       "    <tr>\n",
       "      <td>9739</td>\n",
       "      <td>193585</td>\n",
       "      <td>Flint (2017)</td>\n",
       "      <td>Drama</td>\n",
       "      <td>3.500000</td>\n",
       "      <td>3.5</td>\n",
       "      <td>1.0</td>\n",
       "    </tr>\n",
       "    <tr>\n",
       "      <td>9740</td>\n",
       "      <td>193587</td>\n",
       "      <td>Bungo Stray Dogs: Dead Apple (2018)</td>\n",
       "      <td>Action|Animation</td>\n",
       "      <td>3.500000</td>\n",
       "      <td>3.5</td>\n",
       "      <td>1.0</td>\n",
       "    </tr>\n",
       "    <tr>\n",
       "      <td>9741</td>\n",
       "      <td>193609</td>\n",
       "      <td>Andrew Dice Clay: Dice Rules (1991)</td>\n",
       "      <td>Comedy</td>\n",
       "      <td>4.000000</td>\n",
       "      <td>4.0</td>\n",
       "      <td>1.0</td>\n",
       "    </tr>\n",
       "  </tbody>\n",
       "</table>\n",
       "<p>9742 rows × 6 columns</p>\n",
       "</div>"
      ],
      "text/plain": [
       "      filmeId                                     titulo  \\\n",
       "0           1                           Toy Story (1995)   \n",
       "1           2                             Jumanji (1995)   \n",
       "2           3                    Grumpier Old Men (1995)   \n",
       "3           4                   Waiting to Exhale (1995)   \n",
       "4           5         Father of the Bride Part II (1995)   \n",
       "...       ...                                        ...   \n",
       "9737   193581  Black Butler: Book of the Atlantic (2017)   \n",
       "9738   193583               No Game No Life: Zero (2017)   \n",
       "9739   193585                               Flint (2017)   \n",
       "9740   193587        Bungo Stray Dogs: Dead Apple (2018)   \n",
       "9741   193609        Andrew Dice Clay: Dice Rules (1991)   \n",
       "\n",
       "                                          generos     media  mediana  votos  \n",
       "0     Adventure|Animation|Children|Comedy|Fantasy  3.920930      4.0  215.0  \n",
       "1                      Adventure|Children|Fantasy  3.431818      3.5  110.0  \n",
       "2                                  Comedy|Romance  3.259615      3.0   52.0  \n",
       "3                            Comedy|Drama|Romance  2.357143      3.0    7.0  \n",
       "4                                          Comedy  3.071429      3.0   49.0  \n",
       "...                                           ...       ...      ...    ...  \n",
       "9737              Action|Animation|Comedy|Fantasy  4.000000      4.0    1.0  \n",
       "9738                     Animation|Comedy|Fantasy  3.500000      3.5    1.0  \n",
       "9739                                        Drama  3.500000      3.5    1.0  \n",
       "9740                             Action|Animation  3.500000      3.5    1.0  \n",
       "9741                                       Comedy  4.000000      4.0    1.0  \n",
       "\n",
       "[9742 rows x 6 columns]"
      ]
     },
     "execution_count": 61,
     "metadata": {},
     "output_type": "execute_result"
    }
   ],
   "source": [
    "info_filmes.rename(columns = {'nota' : 'media'})"
   ]
  },
  {
   "cell_type": "code",
   "execution_count": 62,
   "metadata": {
    "scrolled": true
   },
   "outputs": [],
   "source": [
    "dados_filme = []\n",
    "moda = [0 for i in range(len(info_filmes))]\n",
    "moda = pd.Series(moda)\n"
   ]
  },
  {
   "cell_type": "code",
   "execution_count": 63,
   "metadata": {},
   "outputs": [],
   "source": [
    "moda = moda.rename('moda')\n",
    "info_filmes = info_filmes.join(moda, on='filmeId')"
   ]
  },
  {
   "cell_type": "code",
   "execution_count": 64,
   "metadata": {},
   "outputs": [],
   "source": [
    "#incorreto\n",
    "for i in range(1, len(info_filmes)):\n",
    "    try:\n",
    "        moda_teste = avaliacoes.query('filmeId==' + str(i))[\"nota\"].mode()\n",
    "        info_filmes.at[i, 'moda'] = moda_teste\n",
    "    except:\n",
    "        info_filmes.at[i, 'moda'] = 0\n"
   ]
  },
  {
   "cell_type": "code",
   "execution_count": 65,
   "metadata": {
    "scrolled": true
   },
   "outputs": [
    {
     "data": {
      "text/html": [
       "<div>\n",
       "<style scoped>\n",
       "    .dataframe tbody tr th:only-of-type {\n",
       "        vertical-align: middle;\n",
       "    }\n",
       "\n",
       "    .dataframe tbody tr th {\n",
       "        vertical-align: top;\n",
       "    }\n",
       "\n",
       "    .dataframe thead th {\n",
       "        text-align: right;\n",
       "    }\n",
       "</style>\n",
       "<table border=\"1\" class=\"dataframe\">\n",
       "  <thead>\n",
       "    <tr style=\"text-align: right;\">\n",
       "      <th></th>\n",
       "      <th>filmeId</th>\n",
       "      <th>titulo</th>\n",
       "      <th>generos</th>\n",
       "      <th>nota</th>\n",
       "      <th>mediana</th>\n",
       "      <th>votos</th>\n",
       "      <th>moda</th>\n",
       "    </tr>\n",
       "  </thead>\n",
       "  <tbody>\n",
       "    <tr>\n",
       "      <td>0</td>\n",
       "      <td>1</td>\n",
       "      <td>Toy Story (1995)</td>\n",
       "      <td>Adventure|Animation|Children|Comedy|Fantasy</td>\n",
       "      <td>3.920930</td>\n",
       "      <td>4.0</td>\n",
       "      <td>215.0</td>\n",
       "      <td>0.0</td>\n",
       "    </tr>\n",
       "    <tr>\n",
       "      <td>1</td>\n",
       "      <td>2</td>\n",
       "      <td>Jumanji (1995)</td>\n",
       "      <td>Adventure|Children|Fantasy</td>\n",
       "      <td>3.431818</td>\n",
       "      <td>3.5</td>\n",
       "      <td>110.0</td>\n",
       "      <td>4.0</td>\n",
       "    </tr>\n",
       "    <tr>\n",
       "      <td>2</td>\n",
       "      <td>3</td>\n",
       "      <td>Grumpier Old Men (1995)</td>\n",
       "      <td>Comedy|Romance</td>\n",
       "      <td>3.259615</td>\n",
       "      <td>3.0</td>\n",
       "      <td>52.0</td>\n",
       "      <td>4.0</td>\n",
       "    </tr>\n",
       "    <tr>\n",
       "      <td>3</td>\n",
       "      <td>4</td>\n",
       "      <td>Waiting to Exhale (1995)</td>\n",
       "      <td>Comedy|Drama|Romance</td>\n",
       "      <td>2.357143</td>\n",
       "      <td>3.0</td>\n",
       "      <td>7.0</td>\n",
       "      <td>3.0</td>\n",
       "    </tr>\n",
       "    <tr>\n",
       "      <td>4</td>\n",
       "      <td>5</td>\n",
       "      <td>Father of the Bride Part II (1995)</td>\n",
       "      <td>Comedy</td>\n",
       "      <td>3.071429</td>\n",
       "      <td>3.0</td>\n",
       "      <td>49.0</td>\n",
       "      <td>3.0</td>\n",
       "    </tr>\n",
       "  </tbody>\n",
       "</table>\n",
       "</div>"
      ],
      "text/plain": [
       "   filmeId                              titulo  \\\n",
       "0        1                    Toy Story (1995)   \n",
       "1        2                      Jumanji (1995)   \n",
       "2        3             Grumpier Old Men (1995)   \n",
       "3        4            Waiting to Exhale (1995)   \n",
       "4        5  Father of the Bride Part II (1995)   \n",
       "\n",
       "                                       generos      nota  mediana  votos  moda  \n",
       "0  Adventure|Animation|Children|Comedy|Fantasy  3.920930      4.0  215.0   0.0  \n",
       "1                   Adventure|Children|Fantasy  3.431818      3.5  110.0   4.0  \n",
       "2                               Comedy|Romance  3.259615      3.0   52.0   4.0  \n",
       "3                         Comedy|Drama|Romance  2.357143      3.0    7.0   3.0  \n",
       "4                                       Comedy  3.071429      3.0   49.0   3.0  "
      ]
     },
     "execution_count": 65,
     "metadata": {},
     "output_type": "execute_result"
    }
   ],
   "source": [
    "info_filmes.head()"
   ]
  },
  {
   "cell_type": "code",
   "execution_count": 78,
   "metadata": {},
   "outputs": [],
   "source": [
    "def explora_filme(filme_id):\n",
    "    filme = filmes.query(f'filmeId == {filme_id}')\n",
    "    notas = avaliacoes.query(f'filmeId == {filme_id}')['nota']\n",
    "    \n",
    "    print(f'Filme: {filme.iloc[0, 1]}')\n",
    "    print()\n",
    "    \n",
    "    print(f'Moda: {notas.mode().values}')    \n",
    "    print(f'Média: {notas.mean()}')\n",
    "    print(f'Mediana: {notas.median()}')\n",
    "    print('------------')"
   ]
  },
  {
   "cell_type": "code",
   "execution_count": 79,
   "metadata": {},
   "outputs": [
    {
     "name": "stdout",
     "output_type": "stream",
     "text": [
      "Filme: Police Academy: Mission to Moscow (1994)\n",
      "\n",
      "Moda: [0.5]\n",
      "Média: 0.8\n",
      "Mediana: 0.5\n",
      "------------\n",
      "Filme: Pearl Jam Twenty (2011)\n",
      "\n",
      "Moda: [0.5]\n",
      "Média: 0.5\n",
      "Mediana: 0.5\n",
      "------------\n",
      "Filme: House Party 2 (1991)\n",
      "\n",
      "Moda: [0.5 1. ]\n",
      "Média: 0.75\n",
      "Mediana: 0.75\n",
      "------------\n"
     ]
    }
   ],
   "source": [
    "explora_filme(8387)\n",
    "explora_filme(89386)\n",
    "explora_filme(3774)"
   ]
  },
  {
   "cell_type": "markdown",
   "metadata": {
    "colab_type": "text",
    "id": "E1X5ReBxUNZq"
   },
   "source": [
    "## Desafio 6 da [Thais André](https://twitter.com/thais_tandre)\n",
    "\n",
    "Plotar o boxplot e o histograma um do lado do outro (na mesma figura ou em figuras distintas, mas um do lado do outro).\n"
   ]
  },
  {
   "cell_type": "code",
   "execution_count": 80,
   "metadata": {},
   "outputs": [
    {
     "data": {
      "image/png": "[encoded data removed]",
      "text/plain": [
       "<Figure size 1152x432 with 2 Axes>"
      ]
     },
     "metadata": {},
     "output_type": "display_data"
    }
   ],
   "source": [
    "pulp_fiction = avaliacoes.query('filmeId == 296')['nota']\n",
    "\n",
    "f, axes = plt.subplots(1, 2, figsize=(16, 6))\n",
    "\n",
    "pulp_fiction.plot(kind='hist', ax=axes[0])\n",
    "pulp_fiction.plot(kind='box', ax=axes[1])\n",
    "\n",
    "plt.show()"
   ]
  },
  {
   "cell_type": "code",
   "execution_count": null,
   "metadata": {},
   "outputs": [],
   "source": []
  },
  {
   "cell_type": "markdown",
   "metadata": {
    "colab_type": "text",
    "id": "9sm-sJIPUfte"
   },
   "source": [
    "## Desafio 7 do [Thiago Gonçalves](https://twitter.com/tgcsantos)\n",
    "\n",
    "Criar um gráfico de notas médias por ano (média geral considerando todos os filmes lançados naquele ano)."
   ]
  },
  {
   "cell_type": "code",
   "execution_count": 81,
   "metadata": {},
   "outputs": [
    {
     "data": {
      "text/html": [
       "<div>\n",
       "<style scoped>\n",
       "    .dataframe tbody tr th:only-of-type {\n",
       "        vertical-align: middle;\n",
       "    }\n",
       "\n",
       "    .dataframe tbody tr th {\n",
       "        vertical-align: top;\n",
       "    }\n",
       "\n",
       "    .dataframe thead th {\n",
       "        text-align: right;\n",
       "    }\n",
       "</style>\n",
       "<table border=\"1\" class=\"dataframe\">\n",
       "  <thead>\n",
       "    <tr style=\"text-align: right;\">\n",
       "      <th></th>\n",
       "      <th>filmeId</th>\n",
       "      <th>titulo</th>\n",
       "      <th>generos</th>\n",
       "      <th>nota</th>\n",
       "      <th>ano</th>\n",
       "    </tr>\n",
       "  </thead>\n",
       "  <tbody>\n",
       "    <tr>\n",
       "      <td>0</td>\n",
       "      <td>1</td>\n",
       "      <td>Toy Story (1995)</td>\n",
       "      <td>Adventure|Animation|Children|Comedy|Fantasy</td>\n",
       "      <td>3.920930</td>\n",
       "      <td>1995</td>\n",
       "    </tr>\n",
       "    <tr>\n",
       "      <td>1</td>\n",
       "      <td>2</td>\n",
       "      <td>Jumanji (1995)</td>\n",
       "      <td>Adventure|Children|Fantasy</td>\n",
       "      <td>3.431818</td>\n",
       "      <td>1995</td>\n",
       "    </tr>\n",
       "    <tr>\n",
       "      <td>2</td>\n",
       "      <td>3</td>\n",
       "      <td>Grumpier Old Men (1995)</td>\n",
       "      <td>Comedy|Romance</td>\n",
       "      <td>3.259615</td>\n",
       "      <td>1995</td>\n",
       "    </tr>\n",
       "    <tr>\n",
       "      <td>3</td>\n",
       "      <td>4</td>\n",
       "      <td>Waiting to Exhale (1995)</td>\n",
       "      <td>Comedy|Drama|Romance</td>\n",
       "      <td>2.357143</td>\n",
       "      <td>1995</td>\n",
       "    </tr>\n",
       "    <tr>\n",
       "      <td>4</td>\n",
       "      <td>5</td>\n",
       "      <td>Father of the Bride Part II (1995)</td>\n",
       "      <td>Comedy</td>\n",
       "      <td>3.071429</td>\n",
       "      <td>1995</td>\n",
       "    </tr>\n",
       "  </tbody>\n",
       "</table>\n",
       "</div>"
      ],
      "text/plain": [
       "   filmeId                              titulo  \\\n",
       "0        1                    Toy Story (1995)   \n",
       "1        2                      Jumanji (1995)   \n",
       "2        3             Grumpier Old Men (1995)   \n",
       "3        4            Waiting to Exhale (1995)   \n",
       "4        5  Father of the Bride Part II (1995)   \n",
       "\n",
       "                                       generos      nota   ano  \n",
       "0  Adventure|Animation|Children|Comedy|Fantasy  3.920930  1995  \n",
       "1                   Adventure|Children|Fantasy  3.431818  1995  \n",
       "2                               Comedy|Romance  3.259615  1995  \n",
       "3                         Comedy|Drama|Romance  2.357143  1995  \n",
       "4                                       Comedy  3.071429  1995  "
      ]
     },
     "execution_count": 81,
     "metadata": {},
     "output_type": "execute_result"
    }
   ],
   "source": [
    "filmes_com_media_e_ano = filmes_com_media.copy()\n",
    "filmes_com_media_e_ano['ano'] = filmes_com_media['titulo'].str.extract(\"\\((\\d{4})\\)\")\n",
    "filmes_com_media_e_ano.head()"
   ]
  },
  {
   "cell_type": "code",
   "execution_count": null,
   "metadata": {},
   "outputs": [],
   "source": []
  }
 ],
 "metadata": {
  "colab": {
   "collapsed_sections": [
    "sG6vp0eCNdi2"
   ],
   "name": "QuarentenaDados - aula02",
   "provenance": [],
   "toc_visible": true
  },
  "kernelspec": {
   "display_name": "Python 3",
   "language": "python",
   "name": "python3"
  },
  "language_info": {
   "codemirror_mode": {
    "name": "ipython",
    "version": 3
   },
   "file_extension": ".py",
   "mimetype": "text/x-python",
   "name": "python",
   "nbconvert_exporter": "python",
   "pygments_lexer": "ipython3",
   "version": "3.7.4"
  }
 },
 "nbformat": 4,
 "nbformat_minor": 1
}
