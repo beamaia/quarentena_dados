{
 "cells": [
  {
   "cell_type": "markdown",
   "metadata": {},
   "source": [
    "## Desafio 5 do [Allan Spadini](https://twitter.com/allanspadini)\n",
    "\n",
    "Descobrir os generos dos filmes (quais são eles, únicos). (esse aqui o bicho pega)"
   ]
  },
  {
   "cell_type": "markdown",
   "metadata": {},
   "source": [
    "## Desafio 6 da [Thais André](https://twitter.com/thais_tandre)\n",
    "\n",
    "Contar o número de aparições de cada genero."
   ]
  },
  {
   "cell_type": "markdown",
   "metadata": {},
   "source": [
    "## Desafio 7 do [Guilherme Silveira](https://twitter.com/guilhermecaelum)\n",
    "\n",
    "Plotar o gráfico de aparições de cada genero. Pode ser um gráfico de tipo igual a barra."
   ]
  },
  {
   "cell_type": "code",
   "execution_count": 91,
   "metadata": {},
   "outputs": [],
   "source": [
    "import pandas as pd\n",
    "filmes = pd.read_csv(\"https://raw.githubusercontent.com/alura-cursos/introducao-a-data-science/master/aula0/ml-latest-small/movies.csv\")\n",
    "avaliacoes = pd.read_csv(\"https://github.com/alura-cursos/introducao-a-data-science/blob/master/aula0/ml-latest-small/ratings.csv?raw=true\")"
   ]
  },
  {
   "cell_type": "code",
   "execution_count": 92,
   "metadata": {},
   "outputs": [],
   "source": [
    "filmes.columns = [\"filmeId\", \"titulo\", \"generos\"]\n",
    "avaliacoes.columns = [\"usuarioId\", \"filmeId\", \"nota\", \"momento\"]"
   ]
  },
  {
   "cell_type": "code",
   "execution_count": 93,
   "metadata": {},
   "outputs": [],
   "source": [
    "#Dividindo os generos em uma lista\n",
    "#Os generos sao agrupados po \"|\"\n",
    "#Nao pode repetir generos\n",
    "\n",
    "generos_totais = []\n",
    "count = 0\n",
    "\n",
    "for item in filmes[\"generos\"]:\n",
    "    generos_do_filme = item.split(\"|\")\n",
    "    for tipo_de_filme in generos_do_filme:\n",
    "        if tipo_de_filme not in generos_totais:\n",
    "            generos_totais.append(tipo_de_filme)\n",
    "    "
   ]
  },
  {
   "cell_type": "code",
   "execution_count": 94,
   "metadata": {},
   "outputs": [],
   "source": [
    "generos_totais = pd.DataFrame(generos_totais)"
   ]
  },
  {
   "cell_type": "code",
   "execution_count": 95,
   "metadata": {},
   "outputs": [],
   "source": [
    "generos_totais.columns = ['genero']"
   ]
  },
  {
   "cell_type": "code",
   "execution_count": 96,
   "metadata": {},
   "outputs": [],
   "source": [
    "lista = pd.Series([0 for i in range(0, len(generos_totais))])\n",
    "lista = lista.rename('quantidade')\n",
    "generos_totais = generos_totais.join(lista)"
   ]
  },
  {
   "cell_type": "code",
   "execution_count": 103,
   "metadata": {},
   "outputs": [],
   "source": [
    "total_filmes_por_genero = filmes.generos.str.get_dummies().sum()"
   ]
  },
  {
   "cell_type": "code",
   "execution_count": 108,
   "metadata": {},
   "outputs": [
    {
     "data": {
      "text/plain": [
       "<matplotlib.axes._subplots.AxesSubplot at 0x7fec2163acd0>"
      ]
     },
     "execution_count": 108,
     "metadata": {},
     "output_type": "execute_result"
    },
    {
     "data": {
      "image/png": "[encoded data removed]",
      "text/plain": [
       "<Figure size 432x288 with 1 Axes>"
      ]
     },
     "metadata": {
      "needs_background": "light"
     },
     "output_type": "display_data"
    }
   ],
   "source": [
    "total_filmes_por_genero.sort_values(ascending=False).plot(kind='bar')"
   ]
  },
  {
   "cell_type": "code",
   "execution_count": null,
   "metadata": {},
   "outputs": [],
   "source": []
  }
 ],
 "metadata": {
  "kernelspec": {
   "display_name": "Python 3",
   "language": "python",
   "name": "python3"
  },
  "language_info": {
   "codemirror_mode": {
    "name": "ipython",
    "version": 3
   },
   "file_extension": ".py",
   "mimetype": "text/x-python",
   "name": "python",
   "nbconvert_exporter": "python",
   "pygments_lexer": "ipython3",
   "version": "3.7.4"
  }
 },
 "nbformat": 4,
 "nbformat_minor": 2
}
